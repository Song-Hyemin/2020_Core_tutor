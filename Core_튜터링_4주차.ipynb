{
  "nbformat": 4,
  "nbformat_minor": 0,
  "metadata": {
    "colab": {
      "name": "Core_튜터링_4주차.ipynb",
      "provenance": []
    },
    "kernelspec": {
      "name": "python3",
      "display_name": "Python 3"
    }
  },
  "cells": [
    {
      "cell_type": "code",
      "metadata": {
        "id": "Y1-AmyUkIQOP"
      },
      "source": [
        "# 1. 게임판을 만들어 보자"
      ],
      "execution_count": 4,
      "outputs": []
    },
    {
      "cell_type": "code",
      "metadata": {
        "id": "5_Vrs3RUENe6",
        "outputId": "aa857519-0e5b-4d0c-8d5b-47f128228381",
        "colab": {
          "base_uri": "https://localhost:8080/",
          "height": 35
        }
      },
      "source": [
        "# 가장 기본적인 방법 - 정의할 때 일일이 하나씩 할당해 주는 방법\n",
        "lists = [[0,0,0,0,0],\n",
        "         [0,0,0,0,0],\n",
        "         [0,0,1,0,0],\n",
        "         [0,0,0,0,0],\n",
        "         [0,0,0,0,0]]\n",
        "\n",
        "print(lists)"
      ],
      "execution_count": 5,
      "outputs": [
        {
          "output_type": "stream",
          "text": [
            "[[0, 0, 0, 0, 0], [0, 0, 0, 0, 0], [0, 0, 1, 0, 0], [0, 0, 0, 0, 0], [0, 0, 0, 0, 0]]\n"
          ],
          "name": "stdout"
        }
      ]
    },
    {
      "cell_type": "code",
      "metadata": {
        "id": "H03VVjwoMUgi"
      },
      "source": [
        "# 이중 리스트를 이중 리스트 답게 출력하는 함수를 만들어 보자\n",
        "def print_doublelist(lists):\n",
        "  print(\"이중 리스트를 출력합니다.\")\n",
        "  for i in range(0, 5, 1): # 가로(행)\n",
        "    for  j in range(0,5,1):  # 세로(열)\n",
        "      print(lists[i][j], end=\" \")\n",
        "    print()\n",
        "  print(\"이중 리스트의 출력이 끝났습니다.\")\n",
        "  print()"
      ],
      "execution_count": 29,
      "outputs": []
    },
    {
      "cell_type": "code",
      "metadata": {
        "id": "ACCMcrSuN1Al",
        "outputId": "9af5ce2e-8fac-492f-d3b0-dd01eb7fdabd",
        "colab": {
          "base_uri": "https://localhost:8080/",
          "height": 163
        }
      },
      "source": [
        "print_doublelist(lists)"
      ],
      "execution_count": 30,
      "outputs": [
        {
          "output_type": "stream",
          "text": [
            "이중 리스트를 출력합니다.\n",
            "0 0 0 0 0 \n",
            "0 0 0 0 0 \n",
            "0 0 1 0 0 \n",
            "0 0 0 0 0 \n",
            "0 0 0 0 3 \n",
            "이중 리스트의 출력이 끝났습니다.\n",
            "\n"
          ],
          "name": "stdout"
        }
      ]
    },
    {
      "cell_type": "code",
      "metadata": {
        "id": "YzRe2VgeII-2",
        "outputId": "a60ed3d6-aee4-451a-89cf-49c4e81e62b3",
        "colab": {
          "base_uri": "https://localhost:8080/",
          "height": 603
        }
      },
      "source": [
        "# 이중  For문과 append를 이용하는 방법\n",
        "lists=[]\n",
        "for i in range(0, 5, 1): # 가로(행)\n",
        "  a = []\n",
        "  for  j in range(0,5,1):  # 세로(열)\n",
        "    a.append(0)\n",
        "  lists.append(a)\n",
        "\n",
        "print_doublelist(lists)\n",
        "\n",
        "lists[2][2] = 1   # 리스트 (0,1,2,3,4) x (0,1,2,3,4)에서 (2,2)위치의 원래 값 0을 1로 바꾼다는 의미\n",
        "print_doublelist(lists)\n",
        "\n",
        "lists[4][4] = 3   # 리스트 (0,1,2,3,4) x (0,1,2,3,4)에서 (4,4)위치의 원래 값 0을 3으로 바꾼다는 의미\n",
        "print_doublelist(lists)\n",
        "\n",
        "lists[2][2] = 0\n",
        "lists[4][4] = 0\n",
        "print_doublelist(lists)"
      ],
      "execution_count": 32,
      "outputs": [
        {
          "output_type": "stream",
          "text": [
            "이중 리스트를 출력합니다.\n",
            "0 0 0 0 0 \n",
            "0 0 0 0 0 \n",
            "0 0 0 0 0 \n",
            "0 0 0 0 0 \n",
            "0 0 0 0 0 \n",
            "이중 리스트의 출력이 끝났습니다.\n",
            "\n",
            "이중 리스트를 출력합니다.\n",
            "0 0 0 0 0 \n",
            "0 0 0 0 0 \n",
            "0 0 1 0 0 \n",
            "0 0 0 0 0 \n",
            "0 0 0 0 0 \n",
            "이중 리스트의 출력이 끝났습니다.\n",
            "\n",
            "이중 리스트를 출력합니다.\n",
            "0 0 0 0 0 \n",
            "0 0 0 0 0 \n",
            "0 0 1 0 0 \n",
            "0 0 0 0 0 \n",
            "0 0 0 0 3 \n",
            "이중 리스트의 출력이 끝났습니다.\n",
            "\n",
            "이중 리스트를 출력합니다.\n",
            "0 0 0 0 0 \n",
            "0 0 0 0 0 \n",
            "0 0 0 0 0 \n",
            "0 0 0 0 0 \n",
            "0 0 0 0 0 \n",
            "이중 리스트의 출력이 끝났습니다.\n",
            "\n"
          ],
          "name": "stdout"
        }
      ]
    },
    {
      "cell_type": "code",
      "metadata": {
        "id": "JaxFR4v0RuVI"
      },
      "source": [
        "# 이중 리스트를 초기화하는 함수 만들기\n",
        "# 리스트를 초기화하면\n",
        "# 0 0 0 0 0\n",
        "# 0 0 0 0 0\n",
        "# 0 0 1 0 0 \n",
        "# 0 0 0 0 0\n",
        "# 0 0 0 0 0\n",
        "\n",
        "def default_doublelist(lists):\n",
        "  lists = []\n",
        "  for i in range(0,5,1):\n",
        "    a = []\n",
        "    for j in range(0,5,1):\n",
        "      a.append(0)\n",
        "    lists.append(a)\n",
        "\n",
        "  lists[2][2] = 1\n",
        "\n",
        "  print_doublelist(lists)\n",
        "\n",
        "  return lists"
      ],
      "execution_count": 45,
      "outputs": []
    },
    {
      "cell_type": "code",
      "metadata": {
        "id": "zN8KHDn4Sjlo",
        "outputId": "db30bbc6-9c84-4f13-f236-8816194f8c29",
        "colab": {
          "base_uri": "https://localhost:8080/",
          "height": 310
        }
      },
      "source": [
        "lists = default_doublelist(lists)\n",
        "\n",
        "print_doublelist(lists)   # 함수의 밖에 있으므로 함수의 내용이 적용되지 않는다. (으뜸파이썬 p.217 참고)"
      ],
      "execution_count": 47,
      "outputs": [
        {
          "output_type": "stream",
          "text": [
            "이중 리스트를 출력합니다.\n",
            "0 0 0 0 0 \n",
            "0 0 0 0 0 \n",
            "0 0 1 0 0 \n",
            "0 0 0 0 0 \n",
            "0 0 0 0 0 \n",
            "이중 리스트의 출력이 끝났습니다.\n",
            "\n",
            "이중 리스트를 출력합니다.\n",
            "0 0 0 0 0 \n",
            "0 0 0 0 0 \n",
            "0 0 1 0 0 \n",
            "0 0 0 0 0 \n",
            "0 0 0 0 0 \n",
            "이중 리스트의 출력이 끝났습니다.\n",
            "\n"
          ],
          "name": "stdout"
        }
      ]
    },
    {
      "cell_type": "code",
      "metadata": {
        "id": "z9WdYZaeIwVD",
        "outputId": "3da52052-ec91-4afa-ef28-b2c47e5e444c",
        "colab": {
          "base_uri": "https://localhost:8080/",
          "height": 347
        }
      },
      "source": [
        "# 2. 움직이는 것을 구현하기\n",
        "# 내가 지금 있는 위치를 표시 (y,x)로 두기\n",
        "x = 2\n",
        "y = 2\n",
        "\n",
        "#lists 초기화시키기\n",
        "lists = default_doublelist(lists)\n",
        "\n",
        "방향 = input(\"방향을 입력하세요: \")\n",
        "\n",
        "lists[y][x] = 0  # 이동하기 전 위치의 좌표는 0으로 만든다.\n",
        "\n",
        "# 왼쪽으로 1칸 간다면?  - (2,2)에서 (2,1)로 이동\n",
        "if 방향 == \"왼쪽\" :\n",
        "  x = x - 1\n",
        "\n",
        "# 오른쪽으로 1칸 간다면?  - (2,2)에서 (2,3)로 이동\n",
        "elif 방향 == \"오른쪽\":\n",
        "  x = x  1\n",
        "\n",
        "# 위로 1칸 간다면?  - (2,2)에서 (1,2)로 이동\n",
        "elif 방향 == \"위쪽\":\n",
        "  y = y - 1\n",
        "\n",
        "# 아래로 1칸 간다면?  - (2,2)에서 (3,2)로 이동\n",
        "elif 방향 == \"아래쪽\":\n",
        "  y = y + 1\n",
        "\n",
        "print(y,x)\n",
        "\n",
        "lists[y][x] =1  # lists를 업데이트하는 부분 (이동한 후의 좌표는 1로 만든다.)\n",
        "\n",
        "print_doublelist(lists)"
      ],
      "execution_count": 52,
      "outputs": [
        {
          "output_type": "stream",
          "text": [
            "이중 리스트를 출력합니다.\n",
            "0 0 0 0 0 \n",
            "0 0 0 0 0 \n",
            "0 0 1 0 0 \n",
            "0 0 0 0 0 \n",
            "0 0 0 0 0 \n",
            "이중 리스트의 출력이 끝났습니다.\n",
            "\n",
            "방향을 입력하세요: 위쪽\n",
            "1 2\n",
            "이중 리스트를 출력합니다.\n",
            "0 0 0 0 0 \n",
            "0 0 1 0 0 \n",
            "0 0 0 0 0 \n",
            "0 0 0 0 0 \n",
            "0 0 0 0 0 \n",
            "이중 리스트의 출력이 끝났습니다.\n",
            "\n"
          ],
          "name": "stdout"
        }
      ]
    },
    {
      "cell_type": "code",
      "metadata": {
        "id": "fGdZnyIUQ2GN",
        "outputId": "39238983-435f-4cd6-ff36-c3a84d6febfd",
        "colab": {
          "base_uri": "https://localhost:8080/",
          "height": 402
        }
      },
      "source": [
        "# 여러 동작 수행하기 - 반복문 (while 문 등 ...)\n",
        "x = 2\n",
        "y = 2\n",
        "\n",
        "while True:\n",
        "  \n",
        "  \n",
        "  방향 = input(\"방향을 입력하세요. (그만하고 싶으면 \\\"그만\\\"이라고 작성하세요.) \")\n",
        "\n",
        "  lists[y][x] = 0\n",
        "\n",
        "  # 왼쪽으로 1칸 간다면?  - (2,2)에서 (2,1)로 이동\n",
        "  if 방향 == \"왼쪽\" :\n",
        "    x = x - 1\n",
        "\n",
        "  # 오른쪽으로 1칸 간다면?  - (2,2)에서 (2,3)로 이동\n",
        "  elif 방향 == \"오른쪽\":\n",
        "    x = x + 1\n",
        "\n",
        "  # 위로 1칸 간다면?  - (2,2)에서 (1,2)로 이동\n",
        "  elif 방향 == \"위쪽\":\n",
        "    y = y - 1\n",
        "\n",
        "  # 아래로 1칸 간다면?  - (2,2)에서 (3,2)로 이동\n",
        "  elif 방향 == \"아래쪽\":\n",
        "    y = y + 1\n",
        "\n",
        "  elif 방향 == \"그만\":\n",
        "    break\n",
        "  \n",
        "  print(y,x)\n",
        "\n",
        "  lists[y][x] = 1\n",
        "\n",
        "  print_doublelist(lists)\n",
        "\n"
      ],
      "execution_count": 66,
      "outputs": [
        {
          "output_type": "stream",
          "text": [
            "방향을 입력하세요. (그만하고 싶으면 \"그만\"이라고 작성하세요.) 왼쪽\n",
            "2 1\n",
            "이중 리스트를 출력합니다.\n",
            "0 0 0 0 0 \n",
            "0 0 0 0 0 \n",
            "0 1 0 0 0 \n",
            "0 0 0 0 0 \n",
            "0 0 0 0 0 \n",
            "이중 리스트의 출력이 끝났습니다.\n",
            "\n",
            "방향을 입력하세요. (그만하고 싶으면 \"그만\"이라고 작성하세요.) 왼쪽\n",
            "2 0\n",
            "이중 리스트를 출력합니다.\n",
            "0 0 0 0 0 \n",
            "0 0 0 0 0 \n",
            "1 0 0 0 0 \n",
            "0 0 0 0 0 \n",
            "0 0 0 0 0 \n",
            "이중 리스트의 출력이 끝났습니다.\n",
            "\n",
            "방향을 입력하세요. (그만하고 싶으면 \"그만\"이라고 작성하세요.) 그만\n"
          ],
          "name": "stdout"
        }
      ]
    },
    {
      "cell_type": "code",
      "metadata": {
        "id": "1flNcpvlaYse",
        "outputId": "4a985b4a-bad8-4854-dd52-1f40efd881a3",
        "colab": {
          "base_uri": "https://localhost:8080/",
          "height": 1000
        }
      },
      "source": [
        "# 테두리에 닿았다면?\n",
        "x = 2\n",
        "y = 2\n",
        "\n",
        "while True:\n",
        "  \n",
        "  \n",
        "  방향 = input(\"방향을 입력하세요. (그만하고 싶으면 \\\"그만\\\"이라고 작성하세요.) \")\n",
        "\n",
        "  lists[y][x] = 0\n",
        "\n",
        "  # 왼쪽으로 1칸 간다면?  - (2,2)에서 (2,1)로 이동\n",
        "  if 방향 == \"왼쪽\" :\n",
        "    x = x - 1\n",
        "    # 테두리에 닿았다면?\n",
        "    if x < 0:\n",
        "      x = 0\n",
        "      print('더 이상 왼쪽으로 갈 수 없습니다!')\n",
        "\n",
        "  # 오른쪽으로 1칸 간다면?  - (2,2)에서 (2,3)로 이동\n",
        "  elif 방향 == \"오른쪽\":\n",
        "    x = x + 1\n",
        "    # 테두리에 닿았다면?\n",
        "    if x >= 5:\n",
        "      x = 4\n",
        "      print('더 이상 오른쪽으로 갈 수 없습니다!')\n",
        "\n",
        "  # 위로 1칸 간다면?  - (2,2)에서 (1,2)로 이동\n",
        "  elif 방향 == \"위쪽\":\n",
        "    y = y - 1\n",
        "    # 테두리에 닿았다면?\n",
        "    if y < 0:\n",
        "      y = 0\n",
        "      print('더 이상 위쪽으로 갈 수 없습니다!')\n",
        "\n",
        "  # 아래로 1칸 간다면?  - (2,2)에서 (3,2)로 이동\n",
        "  elif 방향 == \"아래쪽\":\n",
        "    y = y + 1\n",
        "    # 테두리에 닿았다면?\n",
        "    if y >= 5:\n",
        "      y = 4\n",
        "      print('더 이상 아래쪽으로 갈 수 없습니다!')\n",
        "\n",
        "  elif 방향 == \"그만\":\n",
        "    break\n",
        "  \n",
        "  print(y,x)\n",
        "\n",
        "  lists[y][x] = 1\n",
        "\n",
        "  print_doublelist(lists)\n"
      ],
      "execution_count": 67,
      "outputs": [
        {
          "output_type": "stream",
          "text": [
            "방향을 입력하세요. (그만하고 싶으면 \"그만\"이라고 작성하세요.) 왼쪽\n",
            "2 1\n",
            "이중 리스트를 출력합니다.\n",
            "0 0 0 0 0 \n",
            "0 0 0 0 0 \n",
            "0 1 0 0 0 \n",
            "0 0 0 0 0 \n",
            "0 0 0 0 0 \n",
            "이중 리스트의 출력이 끝났습니다.\n",
            "\n",
            "방향을 입력하세요. (그만하고 싶으면 \"그만\"이라고 작성하세요.) 왼쪽\n",
            "2 0\n",
            "이중 리스트를 출력합니다.\n",
            "0 0 0 0 0 \n",
            "0 0 0 0 0 \n",
            "1 0 0 0 0 \n",
            "0 0 0 0 0 \n",
            "0 0 0 0 0 \n",
            "이중 리스트의 출력이 끝났습니다.\n",
            "\n",
            "방향을 입력하세요. (그만하고 싶으면 \"그만\"이라고 작성하세요.) 왼쪽\n",
            "더 이상 왼쪽으로 갈 수 없습니다!\n",
            "2 0\n",
            "이중 리스트를 출력합니다.\n",
            "0 0 0 0 0 \n",
            "0 0 0 0 0 \n",
            "1 0 0 0 0 \n",
            "0 0 0 0 0 \n",
            "0 0 0 0 0 \n",
            "이중 리스트의 출력이 끝났습니다.\n",
            "\n",
            "방향을 입력하세요. (그만하고 싶으면 \"그만\"이라고 작성하세요.) 왼쪽\n",
            "더 이상 왼쪽으로 갈 수 없습니다!\n",
            "2 0\n",
            "이중 리스트를 출력합니다.\n",
            "0 0 0 0 0 \n",
            "0 0 0 0 0 \n",
            "1 0 0 0 0 \n",
            "0 0 0 0 0 \n",
            "0 0 0 0 0 \n",
            "이중 리스트의 출력이 끝났습니다.\n",
            "\n",
            "방향을 입력하세요. (그만하고 싶으면 \"그만\"이라고 작성하세요.) 왼쪽\n",
            "더 이상 왼쪽으로 갈 수 없습니다!\n",
            "2 0\n",
            "이중 리스트를 출력합니다.\n",
            "0 0 0 0 0 \n",
            "0 0 0 0 0 \n",
            "1 0 0 0 0 \n",
            "0 0 0 0 0 \n",
            "0 0 0 0 0 \n",
            "이중 리스트의 출력이 끝났습니다.\n",
            "\n",
            "방향을 입력하세요. (그만하고 싶으면 \"그만\"이라고 작성하세요.) 그만\n"
          ],
          "name": "stdout"
        }
      ]
    },
    {
      "cell_type": "code",
      "metadata": {
        "id": "rlSjMAG_ezej"
      },
      "source": [
        "# 테두리에 닿았다면?\n",
        "# 함수 선언하기\n",
        "\n",
        "def check(방향, y ,x):\n",
        "\n",
        "  # 현재 좌표가 테두리를 벗어난다면\n",
        "  if x < 0 or x >= 5 or y <0 or y >=5 :\n",
        "    if 방향 == \"왼쪽\":\n",
        "      x = 0\n",
        "    elif 방향 == \"오른쪽\":\n",
        "      x = 4\n",
        "    elif 방향 == \"위쪽\":\n",
        "      y = 0\n",
        "    elif 방향 == \"아래쪽\":\n",
        "      y = 4\n",
        "\n",
        "    print('더이상',방향,'쪽으로 갈 수 없습니다!')\n",
        "\n",
        "  return y,x"
      ],
      "execution_count": 71,
      "outputs": []
    },
    {
      "cell_type": "code",
      "metadata": {
        "id": "NN0apygveTy4",
        "outputId": "fe3a5e5e-5fd7-495a-9ab9-eb8a41156c03",
        "colab": {
          "base_uri": "https://localhost:8080/",
          "height": 218
        }
      },
      "source": [
        "x = 2\n",
        "y = 2\n",
        "\n",
        "while True:\n",
        "  \n",
        "  \n",
        "  방향 = input(\"방향을 입력하세요. (그만하고 싶으면 \\\"그만\\\"이라고 작성하세요.) \")\n",
        "\n",
        "  lists[y][x] = 0\n",
        "\n",
        "  # 왼쪽으로 1칸 간다면?  - (2,2)에서 (2,1)로 이동\n",
        "  if 방향 == \"왼쪽\" :\n",
        "    x = x - 1\n",
        "    y,x = check(방향,y,x)\n",
        "   \n",
        "\n",
        "  # 오른쪽으로 1칸 간다면?  - (2,2)에서 (2,3)로 이동\n",
        "  elif 방향 == \"오른쪽\":\n",
        "    x = x + 1\n",
        "    y,x = check(방향,y,x)\n",
        "\n",
        "  # 위로 1칸 간다면?  - (2,2)에서 (1,2)로 이동\n",
        "  elif 방향 == \"위쪽\":\n",
        "    y = y - 1\n",
        "    y,x = check(방향,y,x)\n",
        "\n",
        "  # 아래로 1칸 간다면?  - (2,2)에서 (3,2)로 이동\n",
        "  elif 방향 == \"아래쪽\":\n",
        "    y = y + 1\n",
        "    y,x = check(방향,y,x)\n",
        "\n",
        "  elif 방향 == \"그만\":\n",
        "    break\n",
        "  \n",
        "  print(y,x)\n",
        "\n",
        "  lists[y][x] = 1\n",
        "\n",
        "  print_doublelist(lists)"
      ],
      "execution_count": 72,
      "outputs": [
        {
          "output_type": "stream",
          "text": [
            "방향을 입력하세요. (그만하고 싶으면 \"그만\"이라고 작성하세요.) 왼쪽\n",
            "2 1\n",
            "이중 리스트를 출력합니다.\n",
            "0 0 0 0 0 \n",
            "0 0 0 0 0 \n",
            "0 1 0 0 0 \n",
            "0 0 0 0 0 \n",
            "0 0 0 0 0 \n",
            "이중 리스트의 출력이 끝났습니다.\n",
            "\n",
            "방향을 입력하세요. (그만하고 싶으면 \"그만\"이라고 작성하세요.) 그만\n"
          ],
          "name": "stdout"
        }
      ]
    },
    {
      "cell_type": "code",
      "metadata": {
        "id": "rVWmuhXWgnoo"
      },
      "source": [
        ""
      ],
      "execution_count": null,
      "outputs": []
    }
  ]
}