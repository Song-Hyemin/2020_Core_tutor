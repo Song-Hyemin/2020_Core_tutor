{
  "nbformat": 4,
  "nbformat_minor": 0,
  "metadata": {
    "colab": {
      "name": "Core_튜터링_5주차.ipynb",
      "provenance": []
    },
    "kernelspec": {
      "name": "python3",
      "display_name": "Python 3"
    }
  },
  "cells": [
    {
      "cell_type": "markdown",
      "metadata": {
        "id": "0Zxj92WZJQA5"
      },
      "source": [
        "# **미로찾기 프로그램 만들기**\n",
        "\n",
        "(조건)\n",
        "  1. 벽은 #로, 빈공간은 .으로 둔다.\n",
        "  2. 캐릭터는 B로 둔다. (Ball의 약자)\n",
        "  3. 모서리 부분은 전부 #로 막아 놓는다.\n",
        "\n",
        "(프로그램 설명)\n",
        "  1. 프로그래밍언어 : Python\n",
        "  2. 함수를 사용하여 짜임새 있게 구현하였다."
      ]
    },
    {
      "cell_type": "code",
      "metadata": {
        "id": "qMPyAmPXRqu4"
      },
      "source": [
        "#...\n",
        "#예시\n",
        "#...\n",
        "\n",
        "#####\n",
        "#..B#\n",
        "#.#.#\n",
        "#...#\n",
        "#####"
      ],
      "execution_count": 15,
      "outputs": []
    },
    {
      "cell_type": "markdown",
      "metadata": {
        "id": "yZ5vgpw7KGab"
      },
      "source": [
        "# 프로그램코드"
      ]
    },
    {
      "cell_type": "markdown",
      "metadata": {
        "id": "TXzsX3WtKlA1"
      },
      "source": [
        "변수 선언"
      ]
    },
    {
      "cell_type": "code",
      "metadata": {
        "id": "OeBs4GgYRX7U"
      },
      "source": [
        "# 벽은 #로, 빈 공간은 .으로, 캐릭터는 B로 둔다.\n",
        "Block = '#'\n",
        "Void_area = '.'\n",
        "Character = 'B'\n",
        "\n",
        "# 게임판을 새롭게 정의\n",
        "game_board = []\n",
        "row = 0            # 행(가로)의 길이\n",
        "column = 0         # 열(세로)의 길이\n",
        "\n",
        "# 캐릭터의 자리 또한 새롭게 정의\n",
        "c_y = 0       # 캐릭터가 처음 시작하는 자리의 y좌표\n",
        "c_x = 0       # 캐릭터가 처음 시작하는 자리의 x좌표"
      ],
      "execution_count": 52,
      "outputs": []
    },
    {
      "cell_type": "markdown",
      "metadata": {
        "id": "RXQ57HgoKn7f"
      },
      "source": [
        "함수 정의부"
      ]
    },
    {
      "cell_type": "code",
      "metadata": {
        "id": "r3qv4G9ZJzLV"
      },
      "source": [
        "# 게임판을 초기화하는 함수\n",
        "# 인자로 행의 길이와 열의 길이를 받아서 그 크기만큼 함수 안에서 game_board를 만들고,\n",
        "# 인자로 캐릭터가 처음 시작하는 자리의 y좌표와 x좌표를 받아서, 그 위치에 캐릭터를 생성한다.\n",
        "# 리턴값을 함수 밖에 있는 game_board에 대입\n",
        "# 이 함수의 사용 예시 : game_board = default_game_board(5, 5)\n",
        "# 이 함수의 사용 예시 : game_board = default_game_board(r, c) (r = 3,c = 7)\n",
        "\n",
        "def default_game_board(row, column, c_y, c_x):\n",
        "  game_board = []\n",
        "\n",
        "  # 빈 공간을 넣는 부분\n",
        "  for i in range(0,row,1):        # 게임판의 행 (가로)\n",
        "    a = []\n",
        "    for j in range(0,column,1):   # 게임판의 열 (세로)\n",
        "      a.append('.')\n",
        "    game_board.append(a)\n",
        "\n",
        "  # 캐릭터의 자리를 정하는 부분\n",
        "  game_board[c_y][c_x] = 'B'\n",
        "\n",
        "  # 벽을 넣는 부분\n",
        "  # 가로줄이 3, 세로줄이 4인 게임판이 있다고 하면 row = 3, column = 4\n",
        "  # (1) 맨 위 가로줄 (0,0) ~ (0, column)\n",
        "  # (2) 맨 아래 가로줄 -> (2,0), (2,1), (2,2), (2,3) = (row - 1, 0) ~ (row - 1, column - 1)\n",
        "  for i in range(0,column,1):\n",
        "    game_board[0][i] = '#'         # (1) 부분\n",
        "    game_board[row-1][i] = '#'     # (2) 부분\n",
        "\n",
        "  # (3) 왼쪽 세로줄 -> (0,0), (1,0), (2,0) = (0,0) ~ (row - 1, 0)\n",
        "  # (4) 오른쪽 세로줄 -> (0,3), (1,3), (2,3) = (0,column - 1) ~ (row - 1 , column - 1)\n",
        "  for i in range(0,row,1):\n",
        "    game_board[i][0] = '#'\n",
        "    game_board[i][column-1] = '#' \n",
        "\n",
        "  # 최종적으로 초기화된 게임판을 출력\n",
        "  print_game_board(game_board)\n",
        "\n",
        "  return game_board"
      ],
      "execution_count": 51,
      "outputs": []
    },
    {
      "cell_type": "code",
      "metadata": {
        "id": "CNJ20OOtGo1v"
      },
      "source": [
        "# 이중 리스트를 이중 리스트 답게 출력하는 함수를 만들어 보자\n",
        "def print_game_board(game_board):\n",
        "  print(\"이중 리스트를 출력합니다.\")\n",
        "  for i in range(0, len(game_board), 1):      # 가로(행) / len(game_board) = 가로줄의 개수\n",
        "    for  j in range(0,len(game_board[i]),1):  # 세로(열) / len(game_board[i]) = 세로줄의 개수\n",
        "      print(game_board[i][j], end=\" \")\n",
        "    print()\n",
        "  print(\"이중 리스트의 출력이 끝났습니다.\")\n",
        "  print()"
      ],
      "execution_count": 50,
      "outputs": []
    },
    {
      "cell_type": "code",
      "metadata": {
        "id": "atKc446IJ2EC"
      },
      "source": [
        "# 테두리에 닿았다면?\n",
        "# 함수 선언하기\n",
        "\n",
        "def check(방향, y ,x):\n",
        "\n",
        "  # 현재 좌표가 테두리를 벗어난다면\n",
        "  if x < 0 or x >= 5 or y <0 or y >=5 :\n",
        "    if 방향 == \"왼쪽\":\n",
        "      x = 0\n",
        "    elif 방향 == \"오른쪽\":\n",
        "      x = 4\n",
        "    elif 방향 == \"위쪽\":\n",
        "      y = 0\n",
        "    elif 방향 == \"아래쪽\":\n",
        "      y = 4\n",
        "\n",
        "    print('더이상',방향,'쪽으로 갈 수 없습니다!')\n",
        "\n",
        "  return y,x"
      ],
      "execution_count": 49,
      "outputs": []
    },
    {
      "cell_type": "code",
      "metadata": {
        "id": "SVRJjV5Bdsnk"
      },
      "source": [
        "# 벽을 만나기 전까지 한 방향으로 계속 캐릭터를 움직이는 함수\n",
        "# 재귀함수를 이용해서 만들어 보자\n",
        "# 인자로 게임판, 캐릭터의 y좌표, 캐릭터의 x좌표, 움직일 방향\n",
        "# 리턴값은 캐릭터가 벽을 만나기 전까지 한 방향으로 계속 움직인 결과를 보여주는 게임판\n",
        "\n",
        "def move_not_block(game_board, c_y, c_x, dir):\n",
        "  # 재귀함수를 잘 알려면 print를 해보면 된다.\n",
        "  print_game_board(game_board)\n",
        "  print(c_y,c_x,dir)\n",
        "\n",
        "  # 함수 안에서만 쓰이는 y,x 변수를 만들자\n",
        "  y = c_y\n",
        "  x = c_x\n",
        "\n",
        "  # 먼저 1칸 이동을 하고\n",
        "  if dir == '왼쪽':\n",
        "    x = x - 1\n",
        "  elif dir == '오른쪽':\n",
        "    x = x + 1\n",
        "  elif dir == '위쪽':\n",
        "    y = y - 1\n",
        "  elif dir == '아래쪽':\n",
        "    y = y + 1\n",
        "  \n",
        "  # (y,x) : 1칸 이동한 좌표\n",
        "  # (c_y,c_x) : 이동 전 좌표\n",
        "\n",
        "  print(y,x)\n",
        "  # 이동한 자리가 벽인지 확인\n",
        "  if game_board[y][x] != '#':  # 이동한 자리가 벽이 아니라면\n",
        "    #이동하기 전 자리는 빈공간('.')으로 두고\n",
        "    # 이동 후 자리에 캐릭터 표시('B')를 한다.\n",
        "    game_board[c_y][c_x] = '.'\n",
        "    game_board[y][x] = 'B'\n",
        "    return move_not_block(game_board,y,x,dir)\n",
        "\n",
        "  else:   # 이동한 자리가 벽이라면\n",
        "    return game_board\n",
        "\n"
      ],
      "execution_count": 58,
      "outputs": []
    },
    {
      "cell_type": "markdown",
      "metadata": {
        "id": "0fkobbzUTnZ1"
      },
      "source": [
        "함수 테스트"
      ]
    },
    {
      "cell_type": "code",
      "metadata": {
        "id": "ecDDZjJjTcms",
        "outputId": "be0f96f0-1a9a-4b14-edc2-b324c476b054",
        "colab": {
          "base_uri": "https://localhost:8080/"
        }
      },
      "source": [
        "# default_game_board 함수 테스트\n",
        "game_board = default_game_board(10,9,5,4)\n",
        "\n",
        "#game_board[1][3] = 'C'\n",
        "#print(game_board, len(game_board))\n",
        "#print(game_board[0], len(game_board[0]))\n",
        "#print(game_board[1], len(game_board[1]))\n",
        "#print(game_board[2], len(game_board[2]))"
      ],
      "execution_count": 59,
      "outputs": [
        {
          "output_type": "stream",
          "text": [
            "이중 리스트를 출력합니다.\n",
            "# # # # # # # # # \n",
            "# . . . . . . . # \n",
            "# . . . . . . . # \n",
            "# . . . . . . . # \n",
            "# . . . . . . . # \n",
            "# . . . B . . . # \n",
            "# . . . . . . . # \n",
            "# . . . . . . . # \n",
            "# . . . . . . . # \n",
            "# # # # # # # # # \n",
            "이중 리스트의 출력이 끝났습니다.\n",
            "\n"
          ],
          "name": "stdout"
        }
      ]
    },
    {
      "cell_type": "code",
      "metadata": {
        "id": "kHwy5vW_hb9Z",
        "outputId": "a18036a9-dc3e-4ec8-ece0-9dd4787a2577",
        "colab": {
          "base_uri": "https://localhost:8080/"
        }
      },
      "source": [
        "game_board = move_not_block(game_board,5,4,'왼쪽')\n",
        "print('최종 결과')\n",
        "print_game_board(game_board)"
      ],
      "execution_count": 60,
      "outputs": [
        {
          "output_type": "stream",
          "text": [
            "이중 리스트를 출력합니다.\n",
            "# # # # # # # # # \n",
            "# . . . . . . . # \n",
            "# . . . . . . . # \n",
            "# . . . . . . . # \n",
            "# . . . . . . . # \n",
            "# . . . B . . . # \n",
            "# . . . . . . . # \n",
            "# . . . . . . . # \n",
            "# . . . . . . . # \n",
            "# # # # # # # # # \n",
            "이중 리스트의 출력이 끝났습니다.\n",
            "\n",
            "5 4 왼쪽\n",
            "5 3\n",
            "이중 리스트를 출력합니다.\n",
            "# # # # # # # # # \n",
            "# . . . . . . . # \n",
            "# . . . . . . . # \n",
            "# . . . . . . . # \n",
            "# . . . . . . . # \n",
            "# . . B . . . . # \n",
            "# . . . . . . . # \n",
            "# . . . . . . . # \n",
            "# . . . . . . . # \n",
            "# # # # # # # # # \n",
            "이중 리스트의 출력이 끝났습니다.\n",
            "\n",
            "5 3 왼쪽\n",
            "5 2\n",
            "이중 리스트를 출력합니다.\n",
            "# # # # # # # # # \n",
            "# . . . . . . . # \n",
            "# . . . . . . . # \n",
            "# . . . . . . . # \n",
            "# . . . . . . . # \n",
            "# . B . . . . . # \n",
            "# . . . . . . . # \n",
            "# . . . . . . . # \n",
            "# . . . . . . . # \n",
            "# # # # # # # # # \n",
            "이중 리스트의 출력이 끝났습니다.\n",
            "\n",
            "5 2 왼쪽\n",
            "5 1\n",
            "이중 리스트를 출력합니다.\n",
            "# # # # # # # # # \n",
            "# . . . . . . . # \n",
            "# . . . . . . . # \n",
            "# . . . . . . . # \n",
            "# . . . . . . . # \n",
            "# B . . . . . . # \n",
            "# . . . . . . . # \n",
            "# . . . . . . . # \n",
            "# . . . . . . . # \n",
            "# # # # # # # # # \n",
            "이중 리스트의 출력이 끝났습니다.\n",
            "\n",
            "5 1 왼쪽\n",
            "5 0\n",
            "최종 결과\n",
            "이중 리스트를 출력합니다.\n",
            "# # # # # # # # # \n",
            "# . . . . . . . # \n",
            "# . . . . . . . # \n",
            "# . . . . . . . # \n",
            "# . . . . . . . # \n",
            "# B . . . . . . # \n",
            "# . . . . . . . # \n",
            "# . . . . . . . # \n",
            "# . . . . . . . # \n",
            "# # # # # # # # # \n",
            "이중 리스트의 출력이 끝났습니다.\n",
            "\n"
          ],
          "name": "stdout"
        }
      ]
    },
    {
      "cell_type": "markdown",
      "metadata": {
        "id": "AXifDb49LXAu"
      },
      "source": [
        "메인 함수\n"
      ]
    },
    {
      "cell_type": "code",
      "metadata": {
        "id": "9zRlwqnbLa46",
        "outputId": "f8fa660f-243a-4537-ee51-946c269d9252",
        "colab": {
          "base_uri": "https://localhost:8080/"
        }
      },
      "source": [
        "# 1. 게임판을 만들어 보자\n",
        "# 가장 기본적인 방법 - 정의할 때 일일이 하나씩 할당해 주는 방법\n",
        "lists = [[0,0,0,0,0],\n",
        "         [0,0,0,0,0],\n",
        "         [0,0,1,0,0],\n",
        "         [0,0,0,0,0],\n",
        "         [0,0,0,0,0]]\n",
        "\n",
        "print(lists)"
      ],
      "execution_count": 8,
      "outputs": [
        {
          "output_type": "stream",
          "text": [
            "[[0, 0, 0, 0, 0], [0, 0, 0, 0, 0], [0, 0, 1, 0, 0], [0, 0, 0, 0, 0], [0, 0, 0, 0, 0]]\n"
          ],
          "name": "stdout"
        }
      ]
    },
    {
      "cell_type": "code",
      "metadata": {
        "id": "P4cO6006LbA9",
        "outputId": "fc2fc2f5-8566-453a-907a-5e5e9e2c6caa",
        "colab": {
          "base_uri": "https://localhost:8080/"
        }
      },
      "source": [
        "# 2. 움직이는 것을 구현하기\n",
        "# 내가 지금 있는 위치를 표시 (y,x)로 두기\n",
        "x = 2\n",
        "y = 2\n",
        "\n",
        "#lists 초기화시키기\n",
        "lists = default_doublelist(lists)\n",
        "\n",
        "방향 = input(\"방향을 입력하세요: \")\n",
        "\n",
        "lists[y][x] = 0  # 이동하기 전 위치의 좌표는 0으로 만든다.\n",
        "\n",
        "# 왼쪽으로 1칸 간다면?  - (2,2)에서 (2,1)로 이동\n",
        "if 방향 == \"왼쪽\" :\n",
        "  x = x - 1\n",
        "\n",
        "# 오른쪽으로 1칸 간다면?  - (2,2)에서 (2,3)로 이동\n",
        "elif 방향 == \"오른쪽\":\n",
        "  x = x + 1\n",
        "\n",
        "# 위로 1칸 간다면?  - (2,2)에서 (1,2)로 이동\n",
        "elif 방향 == \"위쪽\":\n",
        "  y = y - 1\n",
        "\n",
        "# 아래로 1칸 간다면?  - (2,2)에서 (3,2)로 이동\n",
        "elif 방향 == \"아래쪽\":\n",
        "  y = y + 1\n",
        "\n",
        "print(y,x)\n",
        "\n",
        "lists[y][x] =1  # lists를 업데이트하는 부분 (이동한 후의 좌표는 1로 만든다.)\n",
        "\n",
        "print_doublelist(lists)"
      ],
      "execution_count": 10,
      "outputs": [
        {
          "output_type": "stream",
          "text": [
            "이중 리스트를 출력합니다.\n",
            "0 0 0 0 0 \n",
            "0 0 0 0 0 \n",
            "0 0 1 0 0 \n",
            "0 0 0 0 0 \n",
            "0 0 0 0 0 \n",
            "이중 리스트의 출력이 끝났습니다.\n",
            "\n",
            "방향을 입력하세요: 왼쪽\n",
            "2 1\n",
            "이중 리스트를 출력합니다.\n",
            "0 0 0 0 0 \n",
            "0 0 0 0 0 \n",
            "0 1 0 0 0 \n",
            "0 0 0 0 0 \n",
            "0 0 0 0 0 \n",
            "이중 리스트의 출력이 끝났습니다.\n",
            "\n"
          ],
          "name": "stdout"
        }
      ]
    },
    {
      "cell_type": "code",
      "metadata": {
        "id": "UkHjRNivLa-D",
        "outputId": "c9e0604e-5588-450d-d2fa-4c4c6c1cf604",
        "colab": {
          "base_uri": "https://localhost:8080/"
        }
      },
      "source": [
        "# 여러 동작 수행하기 - 반복문 (while 문 등 ...)\n",
        "x = 2\n",
        "y = 2\n",
        "\n",
        "while True:\n",
        "  \n",
        "  \n",
        "  방향 = input(\"방향을 입력하세요. (그만하고 싶으면 \\\"그만\\\"이라고 작성하세요.) \")\n",
        "\n",
        "  lists[y][x] = 0\n",
        "\n",
        "  # 왼쪽으로 1칸 간다면?  - (2,2)에서 (2,1)로 이동\n",
        "  if 방향 == \"왼쪽\" :\n",
        "    x = x - 1\n",
        "\n",
        "  # 오른쪽으로 1칸 간다면?  - (2,2)에서 (2,3)로 이동\n",
        "  elif 방향 == \"오른쪽\":\n",
        "    x = x + 1\n",
        "\n",
        "  # 위로 1칸 간다면?  - (2,2)에서 (1,2)로 이동\n",
        "  elif 방향 == \"위쪽\":\n",
        "    y = y - 1\n",
        "\n",
        "  # 아래로 1칸 간다면?  - (2,2)에서 (3,2)로 이동\n",
        "  elif 방향 == \"아래쪽\":\n",
        "    y = y + 1\n",
        "\n",
        "  elif 방향 == \"그만\":\n",
        "    break\n",
        "  \n",
        "  print(y,x)\n",
        "\n",
        "  lists[y][x] = 1\n",
        "\n",
        "  print_doublelist(lists)"
      ],
      "execution_count": 11,
      "outputs": [
        {
          "output_type": "stream",
          "text": [
            "방향을 입력하세요. (그만하고 싶으면 \"그만\"이라고 작성하세요.) 왼쪽\n",
            "2 1\n",
            "이중 리스트를 출력합니다.\n",
            "0 0 0 0 0 \n",
            "0 0 0 0 0 \n",
            "0 1 0 0 0 \n",
            "0 0 0 0 0 \n",
            "0 0 0 0 0 \n",
            "이중 리스트의 출력이 끝났습니다.\n",
            "\n",
            "방향을 입력하세요. (그만하고 싶으면 \"그만\"이라고 작성하세요.) 왼쪽\n",
            "2 0\n",
            "이중 리스트를 출력합니다.\n",
            "0 0 0 0 0 \n",
            "0 0 0 0 0 \n",
            "1 0 0 0 0 \n",
            "0 0 0 0 0 \n",
            "0 0 0 0 0 \n",
            "이중 리스트의 출력이 끝났습니다.\n",
            "\n",
            "방향을 입력하세요. (그만하고 싶으면 \"그만\"이라고 작성하세요.) 왼쪽\n",
            "2 -1\n",
            "이중 리스트를 출력합니다.\n",
            "0 0 0 0 0 \n",
            "0 0 0 0 0 \n",
            "0 0 0 0 1 \n",
            "0 0 0 0 0 \n",
            "0 0 0 0 0 \n",
            "이중 리스트의 출력이 끝났습니다.\n",
            "\n",
            "방향을 입력하세요. (그만하고 싶으면 \"그만\"이라고 작성하세요.) 왼쪽\n",
            "2 -2\n",
            "이중 리스트를 출력합니다.\n",
            "0 0 0 0 0 \n",
            "0 0 0 0 0 \n",
            "0 0 0 1 0 \n",
            "0 0 0 0 0 \n",
            "0 0 0 0 0 \n",
            "이중 리스트의 출력이 끝났습니다.\n",
            "\n",
            "방향을 입력하세요. (그만하고 싶으면 \"그만\"이라고 작성하세요.) 그만\n"
          ],
          "name": "stdout"
        }
      ]
    },
    {
      "cell_type": "markdown",
      "metadata": {
        "id": "g8iMhwmfPjDZ"
      },
      "source": [
        ""
      ]
    }
  ]
}