{
  "nbformat": 4,
  "nbformat_minor": 0,
  "metadata": {
    "colab": {
      "name": "Core 튜터링 3주차.ipynb",
      "provenance": []
    },
    "kernelspec": {
      "name": "python3",
      "display_name": "Python 3"
    }
  },
  "cells": [
    {
      "cell_type": "markdown",
      "metadata": {
        "id": "6q5umE3AHWXq"
      },
      "source": [
        "백준 2438 별찍기(1)"
      ]
    },
    {
      "cell_type": "code",
      "metadata": {
        "id": "VaEbHVycAu8i",
        "outputId": "1f496873-454c-4367-a03b-fa4842e46f71",
        "colab": {
          "base_uri": "https://localhost:8080/",
          "height": 122
        }
      },
      "source": [
        "a = int(input(''))\n",
        "for i in range(1,a+1):\n",
        "  print('*'*i)"
      ],
      "execution_count": 1,
      "outputs": [
        {
          "output_type": "stream",
          "text": [
            "5\n",
            "*\n",
            "**\n",
            "***\n",
            "****\n",
            "*****\n"
          ],
          "name": "stdout"
        }
      ]
    },
    {
      "cell_type": "markdown",
      "metadata": {
        "id": "9mjvzCSGHgjW"
      },
      "source": [
        "백준 2439 별찍기(2)"
      ]
    },
    {
      "cell_type": "code",
      "metadata": {
        "id": "wpF3H9rdGrzA",
        "outputId": "d08a36aa-e98f-42e6-cd2d-970cfb3f6c6d",
        "colab": {
          "base_uri": "https://localhost:8080/",
          "height": 122
        }
      },
      "source": [
        "a = int(input(''))\n",
        "for i in range(1,a+1):\n",
        "  print(' '*(a-i),'*'*i)"
      ],
      "execution_count": 3,
      "outputs": [
        {
          "output_type": "stream",
          "text": [
            "5\n",
            "     *\n",
            "    **\n",
            "   ***\n",
            "  ****\n",
            " *****\n"
          ],
          "name": "stdout"
        }
      ]
    },
    {
      "cell_type": "code",
      "metadata": {
        "id": "f_UJh4ZGH1cM",
        "outputId": "ad857850-5648-49b8-d406-b91401b945a9",
        "colab": {
          "base_uri": "https://localhost:8080/",
          "height": 122
        }
      },
      "source": [
        "a = int(input())\n",
        "for i in range(1,a+1):\n",
        "    print(' '*(a-i),end='')\n",
        "    print('*'*i)"
      ],
      "execution_count": 4,
      "outputs": [
        {
          "output_type": "stream",
          "text": [
            "5\n",
            "    *\n",
            "   **\n",
            "  ***\n",
            " ****\n",
            "*****\n"
          ],
          "name": "stdout"
        }
      ]
    },
    {
      "cell_type": "markdown",
      "metadata": {
        "id": "iOrtubcjIqdS"
      },
      "source": [
        "백준 1259 팰린드롬수"
      ]
    },
    {
      "cell_type": "code",
      "metadata": {
        "id": "721oR8BOIYdY",
        "outputId": "c5ad0214-5c34-4a03-d69d-8a6c38078b39",
        "colab": {
          "base_uri": "https://localhost:8080/",
          "height": 139
        }
      },
      "source": [
        "while True:\n",
        "  a = int(input())\n",
        "\n",
        "  #리스트 하나 만들기\n",
        "  lists = []\n",
        "\n",
        "  #0이면 while문 강제종료\n",
        "  if a == 0:\n",
        "    break\n",
        "\n",
        "  else:\n",
        "    #팰린드롬수인지 아닌지 판단하는 코드\n",
        "    counts = 0\n",
        "    while a != 0:\n",
        "      b = a % 10   #맨끝자리 수가 나옴\n",
        "      lists.append(b)   #리스트 안에 끝자리수를 넣는다.\n",
        "      a = int(a / 10)   # a를 10으로 나누어서 다음 자리 수를 구함\n",
        "      counts = counts + 1   # counts를 쓴 이유는 a의 자리수를 구하기 위해서\n",
        "\n",
        "    # print(lists)\n",
        "\n",
        "    # 맨 앞자리 수와 맨 뒷자리 수가 같은지 판별\n",
        "    sw = 0\n",
        "    for i in range(0,int(counts/2),1):\n",
        "      if lists[i] != lists[counts-1-i]:\n",
        "        sw = 1\n",
        "        print('no')\n",
        "        break\n",
        "    if sw == 0:\n",
        "      print('yes')\n"
      ],
      "execution_count": 9,
      "outputs": [
        {
          "output_type": "stream",
          "text": [
            "121\n",
            "yes\n",
            "1231\n",
            "no\n",
            "12421\n",
            "yes\n",
            "0\n"
          ],
          "name": "stdout"
        }
      ]
    },
    {
      "cell_type": "code",
      "metadata": {
        "id": "o-B8TYehKjKO"
      },
      "source": [
        "# 다른 풀이\n",
        "a = input()\n",
        "sizes = len(a)\n",
        "\n",
        "for i in range(0,int(sizes/2),1):\n",
        "  ...\n",
        "  ..."
      ],
      "execution_count": null,
      "outputs": []
    },
    {
      "cell_type": "markdown",
      "metadata": {
        "id": "TS_ci4vKONMm"
      },
      "source": [
        "백준 10988 팬린드롬인지 확인하기"
      ]
    },
    {
      "cell_type": "code",
      "metadata": {
        "id": "89CwrHWBORVv",
        "outputId": "cab97e69-e2fa-4f15-a1c1-78656ecad4f6",
        "colab": {
          "base_uri": "https://localhost:8080/",
          "height": 52
        }
      },
      "source": [
        "a = input()\n",
        "sizes = int(len(a)/2)\n",
        "\n",
        "sw = 0\n",
        "for i in range(0,sizes,1):\n",
        "  if a[i] != a[len(a)-1-i]:   #i = 0일때 a[0]==a[4]\n",
        "    print('0')\n",
        "    sw = 1\n",
        "    break\n",
        "\n",
        "if sw == 0:\n",
        "  print('1')"
      ],
      "execution_count": 13,
      "outputs": [
        {
          "output_type": "stream",
          "text": [
            "level\n",
            "1\n"
          ],
          "name": "stdout"
        }
      ]
    },
    {
      "cell_type": "markdown",
      "metadata": {
        "id": "K3SCG_UgTH6O"
      },
      "source": [
        "백준 15596 정수 N개의 합"
      ]
    },
    {
      "cell_type": "code",
      "metadata": {
        "id": "kqjgsYH1RJ7I"
      },
      "source": [
        "# 함수 정의하기\n",
        "# 함수를 처음에 생성(선언)할 때는 def를 사용한다. (def = definition)\n",
        "def solve(lists):   # lists : 매개 변수\n",
        "  # lists 안에 있는 수들의 합\n",
        "  sum = 0\n",
        "  for i in lists:\n",
        "    sum += i\n",
        "\n",
        "  return sum  #함수를 통해서 구한 값을 밖에 보내는 것을 return 이라고 함\n"
      ],
      "execution_count": 20,
      "outputs": []
    },
    {
      "cell_type": "code",
      "metadata": {
        "id": "2gJ3rul9UXbe",
        "outputId": "7a1cca44-f1e6-4848-fe19-7bf070394670",
        "colab": {
          "base_uri": "https://localhost:8080/",
          "height": 34
        }
      },
      "source": [
        "# 함수 사용하기\n",
        "lists = [1,2,3,4,5,6]\n",
        "print(solve(lists))"
      ],
      "execution_count": 21,
      "outputs": [
        {
          "output_type": "stream",
          "text": [
            "21\n"
          ],
          "name": "stdout"
        }
      ]
    },
    {
      "cell_type": "markdown",
      "metadata": {
        "id": "7jV4FjjrXgVW"
      },
      "source": [
        "백준 2577 숫자의 개수"
      ]
    },
    {
      "cell_type": "code",
      "metadata": {
        "id": "KdwRJ1sdUhLo",
        "outputId": "1da1ccda-8136-4547-cbab-54d7d2f24e8c",
        "colab": {
          "base_uri": "https://localhost:8080/",
          "height": 262
        }
      },
      "source": [
        "a = int(input())\n",
        "b = int(input())\n",
        "c = int(input())\n",
        "\n",
        "S = a * b * c\n",
        "\n",
        "lists = [0, 0, 0, 0, 0, 0, 0, 0, 0, 0]\n",
        "S_str = str(S)\n",
        "\n",
        "for i in range(len(S_str)):\n",
        "  e = int(S_str[i])\n",
        "  lists[e]=lists[e]+1\n",
        "\n",
        "print(lists)\n",
        "for i in lists:\n",
        "  print(i)\n"
      ],
      "execution_count": 25,
      "outputs": [
        {
          "output_type": "stream",
          "text": [
            "150\n",
            "266\n",
            "427\n",
            "[3, 1, 0, 2, 0, 0, 0, 2, 0, 0]\n",
            "3\n",
            "1\n",
            "0\n",
            "2\n",
            "0\n",
            "0\n",
            "0\n",
            "2\n",
            "0\n",
            "0\n"
          ],
          "name": "stdout"
        }
      ]
    },
    {
      "cell_type": "code",
      "metadata": {
        "id": "bNaPOvFpZ9bA"
      },
      "source": [
        ""
      ],
      "execution_count": null,
      "outputs": []
    }
  ]
}