{
  "nbformat": 4,
  "nbformat_minor": 0,
  "metadata": {
    "colab": {
      "name": "Core_튜터링_9주차.ipynb",
      "provenance": [],
      "authorship_tag": "ABX9TyPaC/HtiE0q7PQBmUmYhyaQ",
      "include_colab_link": true
    },
    "kernelspec": {
      "name": "python3",
      "display_name": "Python 3"
    }
  },
  "cells": [
    {
      "cell_type": "markdown",
      "metadata": {
        "id": "view-in-github",
        "colab_type": "text"
      },
      "source": [
        "<a href=\"https://colab.research.google.com/github/Song-Hyemin/2020_Core_tutor/blob/main/Core_%ED%8A%9C%ED%84%B0%EB%A7%81_9%EC%A3%BC%EC%B0%A8.ipynb\" target=\"_parent\"><img src=\"https://colab.research.google.com/assets/colab-badge.svg\" alt=\"Open In Colab\"/></a>"
      ]
    },
    {
      "cell_type": "code",
      "metadata": {
        "id": "bWjjG5t_h2kR"
      },
      "source": [
        "# 연습문제 9.8번"
      ],
      "execution_count": 1,
      "outputs": []
    },
    {
      "cell_type": "code",
      "metadata": {
        "colab": {
          "base_uri": "https://localhost:8080/"
        },
        "id": "6CA9_wARj5xd",
        "outputId": "149ac456-9713-4e5e-d73c-71273042a0d9"
      },
      "source": [
        "# 클래스 정의\n",
        "class Counter:\n",
        "  # 초기화 메소드, 생성자\n",
        "  def __init__(self, number = 0):\n",
        "    # 이 클래스는 __number라는 속성 값을 가짐 => self.__number\n",
        "    # __init__() 안에서 생성된 변수 : 인스턴스 변수\n",
        "    if number >= 100 or number <= -1:\n",
        "      self.__number = 0\n",
        "    else:\n",
        "      self.__number = number\n",
        "\n",
        "  # __number를 0으로 초기화하는 reset() 메소드를 가짐\n",
        "  def reset(self):\n",
        "    self.__number = 0\n",
        "\n",
        "  # __number를 1 증가시키는 inc() 메소드를 가짐\n",
        "  def inc(self):\n",
        "    self.__number += 1\n",
        "    if self.__number >= 100:\n",
        "      self.__number = 0\n",
        "\n",
        "  # __number를 1 감소시키는 dec() 메소드를 가짐\n",
        "  def dec(self):\n",
        "    self.__number -= 1\n",
        "    if self.__number <= -1:\n",
        "      self.__number = 0\n",
        "\n",
        "  # C(n)과 같이 n을 출력하는 특수 메소드를 가짐\n",
        "  def __str__(self):\n",
        "    # 출력하고자 하는 값을 return한다.\n",
        "    return \"C({})\".format(self.__number)\n",
        "\n",
        "# 인스턴스 c1, c2 생성\n",
        "c1 = Counter(10)\n",
        "c1.inc()\n",
        "print('c1 =',c1)\n",
        "\n",
        "c2 = Counter()\n",
        "c2.inc()\n",
        "c2.inc()\n",
        "c2.dec()\n",
        "print('c2 =', c2)\n",
        "c2.reset()\n",
        "print('c2 =', c2)"
      ],
      "execution_count": 9,
      "outputs": [
        {
          "output_type": "stream",
          "text": [
            "c1 = C(11)\n",
            "c2 = C(1)\n",
            "c2 = C(0)\n"
          ],
          "name": "stdout"
        }
      ]
    },
    {
      "cell_type": "code",
      "metadata": {
        "colab": {
          "base_uri": "https://localhost:8080/"
        },
        "id": "W6Vnle7AmU6f",
        "outputId": "2334e83d-1d33-4a16-cb28-a52d2389b499"
      },
      "source": [
        "# 왜 갭슐화를 하는가?\n",
        "\n",
        "class 남윤원:\n",
        "  # 클래스 변수 : 클래스 안에 선언된 변수\n",
        "  SUBJECT = 4\n",
        "\n",
        "  # 생성자(초기화 메소드) : 인스턴스가 생성될 때 처음으로 호출되는 함수(메소드)\n",
        "  def __init__(self):\n",
        "    # 인스턴스 변수 : 생성자 안에서 선언된 함수\n",
        "    # 인스턴스 변수는 보통 앞에 __을 붙여서, (외부에 공개하고 싶지 않음)\n",
        "    # 클래스 밖에서 호출되지 못하게 한다.\n",
        "    self.__height = 178\n",
        "    self.__kg = 78\n",
        "\n",
        "  # get, set함수\n",
        "  # get함수 : 인스턴스 변수를 클래스 밖에서 알고 싶을 때 사용\n",
        "  def get_height(self):\n",
        "    return self.__height\n",
        "\n",
        "  # set함수 : 인스턴스 변수를 클래스 밖에서 수정하고 싶을 때 사용\n",
        "  def set_height(self, height):\n",
        "    self.__height = height\n",
        "\n",
        "#  a라는 인스턴스 생성\n",
        "a = 남윤원()\n",
        "\n",
        "print(a.SUBJECT)\n",
        "\n",
        "print(a.get_height())\n",
        "a.set_height(78)\n",
        "print(a.get_height())\n"
      ],
      "execution_count": 15,
      "outputs": [
        {
          "output_type": "stream",
          "text": [
            "4\n",
            "178\n",
            "78\n"
          ],
          "name": "stdout"
        }
      ]
    },
    {
      "cell_type": "code",
      "metadata": {
        "colab": {
          "base_uri": "https://localhost:8080/"
        },
        "id": "mh8PzTHzqdpg",
        "outputId": "1f8764be-b8b1-4d74-f4b9-4f7407ac8577"
      },
      "source": [
        "# 연습문제 9.12 : TV 클래스 구현하기\n",
        "# 클래스 : 속성(변수)과 동작(메소드)을 가지는 것\n",
        "\n",
        "class TV:\n",
        "  # 클래스 변수\n",
        "  MIN_VOLUME = 0\n",
        "  MAX_VOLUME = 20\n",
        "  MIN_CHANNEL = 0\n",
        "  MAX_CHANNEL = 200\n",
        "\n",
        "  # 생성자(초기화 메소드)\n",
        "  def __init__(self, volume = 5, channel = 0):\n",
        "    # 인스턴스 변수\n",
        "    self.__volume = volume\n",
        "    self.__channel = channel\n",
        "    self.__is_on = False\n",
        "\n",
        "  # TV의 볼륨, 채널 상태를 문자열로 반환\n",
        "  def __str__(self):\n",
        "    # TV가 꺼진 상태인지 확인\n",
        "    if self.__is_on == False:\n",
        "      return \"TV가 꺼진 상태입니다.\"\n",
        "\n",
        "    else:\n",
        "      return '볼륨 = {}, 채널 = {}'.format(self.__volume, self.__channel)\n",
        "\n",
        "  def toggle_power(self):\n",
        "    if self.__is_on == True:\n",
        "      self.__is_on = False\n",
        "    else:\n",
        "      self.__is_on = True\n",
        "\n",
        "  # get함수, set함수\n",
        "\n",
        "  # 채널 값을 반환하는 메소드\n",
        "  def get_channel(self):\n",
        "    return self.__channel\n",
        "\n",
        "  # 인자를 받아 이 값으로 채널을 설정하는 메소드\n",
        "  # 인자가 0에서 200 사이의 값이 아닐 경우 \"채널 오류\"를 출력(print)\n",
        "  def set_channel(self, channel):\n",
        "    if channel <0 or channel > 200:\n",
        "      print('채널 오류')\n",
        "    else:\n",
        "      self.__channel = channel\n",
        "\n",
        "  # 볼륨 값을 반환하는 메소드\n",
        "  def get_volume(self):\n",
        "    return self.__volume\n",
        "\n",
        "  # 인자를 받아 이 값으로 볼륨을 설정하는 메소드\n",
        "  # 인자가 0에서 201사이의 값이 아닌 경우 \"채널 오류\"를 출력\n",
        "  def set_volume(self, volume):\n",
        "    if (self.__volume <0) or (self.__volume > 200):\n",
        "      print('채널 오류')\n",
        "    else:\n",
        "      self.__volume = volume\n",
        "\n",
        "  def volume_up(self):\n",
        "    self.__volume += 1\n",
        "    if self.__volume > TV.MAX_VOLUME:\n",
        "      self.__volume = TV.MAX_VOLUME\n",
        "\n",
        "  def volume_down(self):\n",
        "    self.__volume += 1\n",
        "    if self.__volume < TV.MIN_VOLUME:\n",
        "      self.__volume = TV.MIN_VOLUME\n",
        "\n",
        "  def channel_up(self):\n",
        "    self.__channel += 1\n",
        "    if self.__channel >= 201:\n",
        "      self.__channel = 0\n",
        "\n",
        "  def channel_down(self):\n",
        "    self.__channel -= 1\n",
        "    if self.__channel >= 201:\n",
        "      self.__channel = 200\n",
        "\n",
        "my_tv = TV()\n",
        "print(my_tv)\n",
        "my_tv.toggle_power()\n",
        "print(my_tv)\n",
        "my_tv.set_channel(45)\n",
        "print(my_tv)\n",
        "my_tv.volume_up()\n",
        "my_tv.channel_up()\n",
        "print(my_tv)"
      ],
      "execution_count": 17,
      "outputs": [
        {
          "output_type": "stream",
          "text": [
            "TV가 꺼진 상태입니다.\n",
            "볼륨 = 5, 채널 = 0\n",
            "볼륨 = 5, 채널 = 45\n",
            "볼륨 = 6, 채널 = 46\n"
          ],
          "name": "stdout"
        }
      ]
    },
    {
      "cell_type": "code",
      "metadata": {
        "id": "jJOMDhDrpOi6"
      },
      "source": [
        "# ex) list 클래스\n",
        "\n",
        "'''\n",
        "class list:\n",
        "  기존에 정의가 되어 있으니\n",
        "\n",
        "# a,b,c 라는 객체를 선언\n",
        "a = [3,4,5,6]\n",
        "b = 3\n",
        "c = \"나는\"\n",
        "\n",
        "a는 리스트형 객체(인스턴스)\n",
        "a의 속성? -> 3,4,5,6 (정수형 변수)\n",
        "a의 동작? -> append(), sort(), ...\n",
        "\n",
        "b는 정수형 객체(인스턴스)\n",
        "b의 속성 -> 3 (정수형 변수)\n",
        "b의 동작 -> __add__()  ex) b.__add__()\n",
        "\n",
        "c는 문자형 객체(인스턴스)\n",
        "c의 속성 => '나는'\n",
        "c의 동작 => \n",
        "'''"
      ],
      "execution_count": null,
      "outputs": []
    },
    {
      "cell_type": "code",
      "metadata": {
        "colab": {
          "base_uri": "https://localhost:8080/"
        },
        "id": "kTa4CPfVwtlA",
        "outputId": "8e897713-f71c-4350-a16d-3555bbc40941"
      },
      "source": [
        "b = 3\n",
        "print(b.__add__(4))"
      ],
      "execution_count": 18,
      "outputs": [
        {
          "output_type": "stream",
          "text": [
            "7\n"
          ],
          "name": "stdout"
        }
      ]
    },
    {
      "cell_type": "code",
      "metadata": {
        "id": "thqMK8tnwzjc"
      },
      "source": [
        "# 연습문제 9.13\n",
        "\n",
        "# 클래스 구현\n",
        "class Rectangle:\n",
        "  # 클래스 변수 : 없음\n",
        "\n",
        "  def __init__(self, x, y, width, height):\n",
        "    # 인스턴스 변수 : 생성자 안에 정의된 변수\n",
        "    self.__x = x\n",
        "    self.__y = y\n",
        "    self.__width = width\n",
        "    self.__height = height\n",
        "\n",
        "  # 사각형의 좌표와 너비, 높이, 면적을 문자열로 반환\n",
        "  def __str__(self):\n",
        "    return 'Rectangle : (x = {}, y = {}, w = {}, h = {}), 면적 : {}'.format(self.__x, self.__y, self.__width, self.__height, self.area())\n",
        "\n",
        "  def set_x(self, x):\n",
        "    self.__x = x\n",
        "\n",
        "  def get_x(self):\n",
        "    return self.__x\n",
        "\n",
        "  def set_y(self, y):\n",
        "    self.__y = y\n",
        "\n",
        "  def get_y(self):\n",
        "    return self.__y\n",
        "\n",
        "  def set_width(self, width):\n",
        "    self.__width = width\n",
        "\n",
        "  def get_width(self):\n",
        "    return self.__width\n",
        "\n",
        "  def set_height(self, height):\n",
        "    self.__height = height\n",
        "\n",
        "  def get_height(self):\n",
        "    return self.__height\n",
        "\n",
        "  def area(self):\n",
        "    return self.__width * self.__height\n",
        "\n",
        "  def overlaps(self, r):\n",
        "    s_point1 = [self.__x, self.__y]\n",
        "    s_point2 = [self.__x + self.__width, self.__y]\n",
        "    s_point3 = [self.__x, self.__y - self.__height]\n",
        "    s_point4 = [self.__x + self.__width, self.__y - self.__height]\n",
        "    s_point = [s_point1, s_point2, s_point3, s_point4]\n",
        "\n",
        "    r_point1 = [r.__x, r.__y]\n",
        "    r_point2 = [r.__x + r.__width, r.__y]\n",
        "    r_point3 = [r.__x, r.__y - r.__height]\n",
        "    r_point4 = [r.__x + r.__width, r.__y - r.__height]\n",
        "    r_point = [r_point1, r_point2, r_point3, r_point4]\n",
        "\n",
        "    for i in s_point:\n",
        "      if (r.__x <= i[0] and i[0] <= r.__x + r.__width):\n",
        "        if (r.__y - r.__height <= i[1] and i[1] <= r.__y):\n",
        "          return True\n",
        " \n",
        "    for j in r_point:\n",
        "      if (self.__x <= j[0] and i[0] <= self.__x + r.__width):\n",
        "        if (self.__y - self.__height <= j[1] and j[1] <= self.__y):\n",
        "          return True\n",
        "     \n",
        "    return False\n",
        "\n",
        "  def contains(self, r):\n",
        "    s_point1 = [self.__x, self.__y]\n",
        "    s_point2 = [self.__x + self.__width, self.__y]\n",
        "    s_point3 = [self.__x, self.__y - self.__height]\n",
        "    s_point4 = [self.__x + self.__width, self.__y - self.__height]\n",
        "    s_point = [s_point1, s_point2, s_point3, s_point4]\n",
        "\n",
        "    r_point1 = [r.__x, r.__y]\n",
        "    r_point2 = [r.__x + r.__width, r.__y]\n",
        "    r_point3 = [r.__x, r.__y - r.__height]\n",
        "    r_point4 = [r.__x + r.__width, r.__y - r.__height]\n",
        "    r_point = [r_point1, r_point2, r_point3, r_point4]\n",
        "\n",
        "    a = 0\n",
        "\n",
        "    for k in r_point:\n",
        "      if (self.__x <= k[0] and k[0] <= self.__x + r.__width):\n",
        "        if (self.__y - self.__height <= k[1] and k[1] <= self.__y):\n",
        "          a += 1\n",
        "    if a == 4:\n",
        "      return True\n",
        "    else:\n",
        "      return False"
      ],
      "execution_count": 20,
      "outputs": []
    },
    {
      "cell_type": "code",
      "metadata": {
        "id": "IIYRWyy56j7i"
      },
      "source": [
        "class Rectangle:\n",
        "  def __init__(self, x, y, width, height):\n",
        "    self.__x = x\n",
        "    self.__y = y\n",
        "    self.__width = width\n",
        "    self.__height = height\n",
        "\n",
        "  def __str__(self):\n",
        "    return 'Rectangle : (x = {}, y = {}, w = {}, h = {}), 면적 : {}'.format(self.__x, self.__y, self.__width, self.__height, self.area())\n",
        "\n",
        "  def set_x(self, x):\n",
        "    self.__x = x\n",
        "\n",
        "  def get_x(self):\n",
        "    return self.__x\n",
        "\n",
        "  def set_y(self, y):\n",
        "    self.__y = y\n",
        "\n",
        "  def get_y(self):\n",
        "    return self.__y\n",
        "\n",
        "  def set_width(self, width):\n",
        "    self.__width = width\n",
        "\n",
        "  def get_width(self):\n",
        "    return self.__width\n",
        "\n",
        "  def set_height(self, height):\n",
        "    self.__height = height\n",
        "\n",
        "  def get_height(self):\n",
        "    return self.__height\n",
        "\n",
        "  def area(self):\n",
        "    return self.__width * self.__height\n",
        "\n",
        "  # contains()함수와 overlaps()함수의 코드를 구현하는 방법은 Core튜터링 튜터님께 배운 방법을 참고하여 작성하였습니다.\n",
        "  # 매개변수 r 사각형이 현재 사각형(self)과 겹치는 부분이 있으면 True\n",
        "  # 겹치는 부분이 없으면 False 반환\n",
        "\n",
        "  def overlaps(self, r):  # 겹치는 부분을 확인하는 함수 작성\n",
        "\n",
        "    # self사각형의 네 좌표값 구하기\n",
        "    R_point1 = [self.__x, self.__y]\n",
        "    R_point2 = [self.__x + self.__width, self.__y]\n",
        "    R_point3 = [self.__x, self.__y - self.__height]\n",
        "    R_point4 = [self.__x + self.__width, self.__y - self.__height]\n",
        "    R_point = [R_point1, R_point2, R_point3, R_point4]\n",
        "\n",
        "    # r 사각형의 네 좌표값 구하기\n",
        "    r_point1 = [r.__x, r.__y]\n",
        "    r_point2 = [r.__x + r.__width, r.__y]\n",
        "    r_point3 = [r.__x, r.__y - r.__height]\n",
        "    r_point4 = [r.__x + r.__width, r.__y - r.__height]\n",
        "    r_point = [r_point1, r_point2, r_point3, r_point4]\n",
        "\n",
        "    # r사각형의 네 점 중 하나가 self사각형 안에 들어가는 지 확인\n",
        "\n",
        "    for i in R_point:\n",
        "      # self 사각형의 x좌표가 r사각형의 한 점의 x좌표보다 작고 또한 self사각형의 x좌표와 self사각형의 너비를 합한 값보다 작을 때\n",
        "      \n",
        "      if (r.__x <= i[0] and i[0] <= r.__x + r.__width):\n",
        "        # self 사각형의 y좌표 - self 사각형의 높이가 r사각형의 한점의 y좌표보다 작고 이것이 self 사각형의 y 좌표보다 작을 때\n",
        "        \n",
        "        if (r.__y - r.__height <= i[1] and i[1] <= r.__y):\n",
        "          return True\n",
        "\n",
        " \n",
        "    # 사각형의 한 점이 r 사각형 안에 들어가는지 확인하기\n",
        "    for j in r_point:\n",
        "      if (self.__x <= j[0] and j[0] <= self.__x + r.__width):\n",
        "        if (self.__y - self.__height <= j[1] and j[1] <= self.__y):\n",
        "          return True\n",
        "     \n",
        "    return False\n",
        "\n",
        "\n",
        "  # 매개 변수 r사각형이 현재 사각형에 포함되어 있으면 True이고 아니면 False를 반환한다.\n",
        "\n",
        "  def contains(self, r):   # 포함된 부분을 확인하는 함수 작성\n",
        "\n",
        "    # self사각형의 네 좌표값 구하기\n",
        "    R_point1 = [self.__x, self.__y]\n",
        "    R_point2 = [self.__x + self.__width, self.__y]\n",
        "    R_point3 = [self.__x, self.__y - self.__height]\n",
        "    R_point4 = [self.__x + self.__width, self.__y - self.__height]\n",
        "    R_point = [R_point1, R_point2, R_point3, R_point4]\n",
        "\n",
        "    # r 사각형의 네 좌표값 구하기\n",
        "    r_point1 = [r.__x, r.__y]\n",
        "    r_point2 = [r.__x + r.__width, r.__y]\n",
        "    r_point3 = [r.__x, r.__y - r.__height]\n",
        "    r_point4 = [r.__x + r.__width, r.__y - r.__height]\n",
        "    r_point = [r_point1, r_point2, r_point3, r_point4]\n",
        "\n",
        "    a = 0\n",
        "    \n",
        "    # 사각형의 4개의 점이 모두 self사각형 안에 들어가는 확인하는 함수\n",
        "    for m in r_point:\n",
        "\n",
        "      # self 사각형의 x좌표가 r사각형의 한 점의 x좌표보다 작고 또한 self사각형의 x좌표와 self사각형의 너비를 합한 값보다 작을 때\n",
        "      if (self.__x <= m[0] and m[0] <= self.__x + r.__width):\n",
        "\n",
        "        # self 사각형의 y좌표 - self 사각형의 높이가 r사각형의 한점의 y좌표보다 작고 이것이 self 사각형의 y 좌표보다 작을 때\n",
        "        if (self.__y - self.__height <= m[1] and m[1] <= self.__y):\n",
        "          a += 1\n",
        "\n",
        "    if a == 4:  # 사각형의 4개의 점이 모두 사각형 안에 포함되면 포함된 사각형이므로 True를 반환시켰다.\n",
        "      return True\n",
        "      \n",
        "    else:  # 포함이 되지 않은 경우에는 False를 반환시킨다.\n",
        "      return False"
      ],
      "execution_count": 23,
      "outputs": []
    },
    {
      "cell_type": "code",
      "metadata": {
        "id": "4BVK-RQpw5tS"
      },
      "source": [
        "# 인스턴스 생성\n",
        "r1 = Rectangle(0,0,100,100)\n",
        "r2 = Rectangle(0,-10,10,10)\n",
        "r3 = Rectangle(-100,0,120,100)"
      ],
      "execution_count": 24,
      "outputs": []
    },
    {
      "cell_type": "code",
      "metadata": {
        "colab": {
          "base_uri": "https://localhost:8080/"
        },
        "id": "dRWEsmuv6a3x",
        "outputId": "b1038184-fe1f-4aa3-b744-0f9641b270e6"
      },
      "source": [
        "print('r1 =',r1)\n",
        "print('r2 =',r2)\n",
        "print('r3 =',r3)\n",
        "\n",
        "print('r1 contains r2 :', r1.contains(r2))\n",
        "print('r1 contains r3 :', r1.contains(r3))\n",
        "print('r1 overlaps r2 :', r1.overlaps(r2))\n",
        "print('r1 overlaps r3 :', r1.overlaps(r3))"
      ],
      "execution_count": 25,
      "outputs": [
        {
          "output_type": "stream",
          "text": [
            "r1 = Rectangle : (x = 0, y = 0, w = 100, h = 100), 면적 : 10000\n",
            "r2 = Rectangle : (x = 0, y = -10, w = 10, h = 10), 면적 : 100\n",
            "r3 = Rectangle : (x = -100, y = 0, w = 120, h = 100), 면적 : 12000\n",
            "r1 contains r2 : True\n",
            "r1 contains r3 : False\n",
            "r1 overlaps r2 : True\n",
            "r1 overlaps r3 : True\n"
          ],
          "name": "stdout"
        }
      ]
    },
    {
      "cell_type": "code",
      "metadata": {
        "id": "VrKA6Mrc7ZrQ"
      },
      "source": [
        ""
      ],
      "execution_count": null,
      "outputs": []
    }
  ]
}