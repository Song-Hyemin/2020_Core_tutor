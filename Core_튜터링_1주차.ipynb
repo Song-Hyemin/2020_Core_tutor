{
  "nbformat": 4,
  "nbformat_minor": 0,
  "metadata": {
    "colab": {
      "name": "Core_튜터링_1주차.ipynb",
      "provenance": []
    },
    "kernelspec": {
      "name": "python3",
      "display_name": "Python 3"
    }
  },
  "cells": [
    {
      "cell_type": "markdown",
      "metadata": {
        "id": "uN24AdIbTMV_"
      },
      "source": [
        "백준 2557 - Hello World"
      ]
    },
    {
      "cell_type": "code",
      "metadata": {
        "id": "3_Ea8DwETRlC",
        "outputId": "40d0a9d5-c538-42b8-d8ca-7d15fa6be1a1",
        "colab": {
          "base_uri": "https://localhost:8080/",
          "height": 35
        }
      },
      "source": [
        "print(\"Hello World!\")"
      ],
      "execution_count": 5,
      "outputs": [
        {
          "output_type": "stream",
          "text": [
            "Hello World!\n"
          ],
          "name": "stdout"
        }
      ]
    },
    {
      "cell_type": "markdown",
      "metadata": {
        "id": "th1nObSVUPYD"
      },
      "source": [
        "백준 10171 - 고양이"
      ]
    },
    {
      "cell_type": "code",
      "metadata": {
        "id": "sWpQhNzrUTdn",
        "outputId": "820fb42a-fe54-4f15-e18b-816908ccd1af",
        "colab": {
          "base_uri": "https://localhost:8080/",
          "height": 88
        }
      },
      "source": [
        "print(\"\\\\    /\\\\\")\n",
        "print(\" )  ( ')\")\n",
        "print(\"(  /  )\")\n",
        "print(\" \\\\(__)|\")"
      ],
      "execution_count": 9,
      "outputs": [
        {
          "output_type": "stream",
          "text": [
            "\\    /\\\n",
            " )  ( ')\n",
            "(  /  )\n",
            " \\(__)|\n"
          ],
          "name": "stdout"
        }
      ]
    }
  ]
}