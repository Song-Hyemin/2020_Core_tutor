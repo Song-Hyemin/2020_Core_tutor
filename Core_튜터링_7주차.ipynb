{
  "nbformat": 4,
  "nbformat_minor": 0,
  "metadata": {
    "colab": {
      "name": "Core_튜터링_7주차.ipynb",
      "provenance": [],
      "authorship_tag": "ABX9TyPvTYyc/Gt9cWXOALx58zXU",
      "include_colab_link": true
    },
    "kernelspec": {
      "name": "python3",
      "display_name": "Python 3"
    }
  },
  "cells": [
    {
      "cell_type": "markdown",
      "metadata": {
        "id": "view-in-github",
        "colab_type": "text"
      },
      "source": [
        "<a href=\"https://colab.research.google.com/github/Song-Hyemin/2020_Core_tutor/blob/main/Core_%ED%8A%9C%ED%84%B0%EB%A7%81_7%EC%A3%BC%EC%B0%A8.ipynb\" target=\"_parent\"><img src=\"https://colab.research.google.com/assets/colab-badge.svg\" alt=\"Open In Colab\"/></a>"
      ]
    },
    {
      "cell_type": "markdown",
      "metadata": {
        "id": "VJtcZO3KPp8M"
      },
      "source": [
        "# 2020 카카오 신입 공채 코딩테스트 문제 완성하기 - 문자열 압축 (연습문제 5.20)"
      ]
    },
    {
      "cell_type": "code",
      "metadata": {
        "id": "vRu43ymaNnfZ"
      },
      "source": [
        "def solution(s):\n",
        "    answer = 100000\n",
        "    \n",
        "    # 코너 케이스 (극단적인 케이스, 경계값)의 경우 예외처리를 해 주자\n",
        "    # s의 길이가 1인 경우 (입력값이 \"a\"인 경우)\n",
        "    if len(s) == 1:\n",
        "      return 1\n",
        "      \n",
        "    # j개 단위로 문자열을 잘라 봅시다.\n",
        "    # j의 범위 : 1 ~ '문자열 s의 전체 길이 / 2' 만큼\n",
        "    for j in range(1,int(len(s)/2) + 1 ,1):\n",
        "        output = ''       # 결과 문자열\n",
        "        left =''          # 이전 문자열을 보관하는 곳\n",
        "        now = ''          # 현재 문자열을 보관하는 곳\n",
        "        counts = 1        # 이전 문자열이 나온 횟수\n",
        "        for i in range(0,len(s),1):\n",
        "            now += s[i]\n",
        "            if (i % j) == (j - 1):  # 비교를 해야하는 곳인지 찾자               \n",
        "              # 이전 문자열과의 비교를 수행\n",
        "              # 이전 문자열과 지금 문자열이 같으면, counts를 1 증가\n",
        "              # 지금 문자열은 초기화\n",
        "                if left == now:\n",
        "                    counts = counts + 1        \n",
        "                else:\n",
        "                  # 이전 문자열이 비어 있으면, 이전 문자열에 지금 문자열을 넣고\n",
        "                  # 다음으로 넘어간다.\n",
        "                    if left == '':\n",
        "                      # 값을 하나씩 복사해서, left와 now가 같은 곳을 보지 못하게 한다.\n",
        "                        for i in range(0,len(now),1):\n",
        "                            left += now[i]\n",
        "                    else:\n",
        "                    # 이전 문자열과 지금 문자열이 다르다면, output에 추가\n",
        "                    # 숫자가 먼저 나오게 한다.\n",
        "                    # 반복 횟수가 1보다 크면 반복 횟수를 output에 추가\n",
        "                        if counts > 1:\n",
        "                            output += str(counts)\n",
        "\n",
        "                    # 그리고 문자 추가\n",
        "                        output += left\n",
        "\n",
        "                        left = ''\n",
        "                        for i in range(0,len(now),1):\n",
        "                            left += now[i]\n",
        "                        counts = 1\n",
        "                        \n",
        "                # 지금 문자열은 초기화한다.\n",
        "                now = ''\n",
        "                    \n",
        "        if counts > 1:\n",
        "            output += str(counts)\n",
        "        output += left\n",
        "        output += now\n",
        "        # print(\"결과:\",output)\n",
        "\n",
        "        # 현재 내가 가지고 있는 답안보다 새롭게 만든 문자열의 길이가 더 짧으면\n",
        "        # 답안을 갱신\n",
        "        #if answer > len(output):\n",
        "        #  answer = len(output)\n",
        "        answer = min(answer, len(output))\n",
        "          \n",
        "    return answer"
      ],
      "execution_count": null,
      "outputs": []
    },
    {
      "cell_type": "code",
      "metadata": {
        "id": "jWiOKqufW5lS",
        "colab": {
          "base_uri": "https://localhost:8080/"
        },
        "outputId": "91d814b5-4eac-424c-ec8c-c8837cd57ae7"
      },
      "source": [
        "a_str = input()\n",
        "print(solution(a_str))"
      ],
      "execution_count": null,
      "outputs": [
        {
          "output_type": "stream",
          "text": [
            "a\n",
            "1\n"
          ],
          "name": "stdout"
        }
      ]
    },
    {
      "cell_type": "markdown",
      "metadata": {
        "id": "HXpA6U84XlOM"
      },
      "source": [
        "# sort 함수 알아보고 이와 관련된 문제 풀어보기"
      ]
    },
    {
      "cell_type": "code",
      "metadata": {
        "id": "X7O5RGskXxRY"
      },
      "source": [
        "# 백준 2750번 수 정렬하기"
      ],
      "execution_count": null,
      "outputs": []
    },
    {
      "cell_type": "code",
      "metadata": {
        "id": "DP5M1GiFW_rC",
        "colab": {
          "base_uri": "https://localhost:8080/"
        },
        "outputId": "b73c25c5-d2b6-4bac-aa47-fa833b80aa6d"
      },
      "source": [
        "# 숫자를 보관하는 리스트\n",
        "l = []\n",
        "\n",
        "# 숫자 개수 입력받기\n",
        "n = int(input())\n",
        "\n",
        "# n개의 수 입력받기\n",
        "for i in range(n):\n",
        "  a = int(input())\n",
        "  l.append(a)\n",
        "\n",
        "print(l)\n",
        "\n",
        "# sort 혹은 sorted 함수를 사용해서, l리스트를 오름차순 정렬해보기\n",
        "\n",
        "\n"
      ],
      "execution_count": null,
      "outputs": [
        {
          "output_type": "stream",
          "text": [
            "2\n",
            "3\n",
            "5\n",
            "[3, 5]\n"
          ],
          "name": "stdout"
        }
      ]
    },
    {
      "cell_type": "code",
      "metadata": {
        "id": "YDUtoj5zZPpl"
      },
      "source": [
        "3"
      ],
      "execution_count": null,
      "outputs": []
    }
  ]
}