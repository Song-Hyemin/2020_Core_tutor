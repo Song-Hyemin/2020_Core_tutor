{
  "nbformat": 4,
  "nbformat_minor": 0,
  "metadata": {
    "colab": {
      "name": "Core_튜터링_8주차.ipynb",
      "provenance": [],
      "authorship_tag": "ABX9TyO+HfP32yUA/96uUa2sf6Ap",
      "include_colab_link": true
    },
    "kernelspec": {
      "name": "python3",
      "display_name": "Python 3"
    }
  },
  "cells": [
    {
      "cell_type": "markdown",
      "metadata": {
        "id": "view-in-github",
        "colab_type": "text"
      },
      "source": [
        "<a href=\"https://colab.research.google.com/github/Song-Hyemin/2020_Core_tutor/blob/main/Core_%ED%8A%9C%ED%84%B0%EB%A7%81_8%EC%A3%BC%EC%B0%A8.ipynb\" target=\"_parent\"><img src=\"https://colab.research.google.com/assets/colab-badge.svg\" alt=\"Open In Colab\"/></a>"
      ]
    },
    {
      "cell_type": "markdown",
      "metadata": {
        "id": "CTCDQf80Rydh"
      },
      "source": [
        "### 리스트, 딕셔너리, 튜플, 집합 각각을 왜 쓰는지 이해하기 + 각각의 메소드 이해하기"
      ]
    },
    {
      "cell_type": "code",
      "metadata": {
        "colab": {
          "base_uri": "https://localhost:8080/"
        },
        "id": "6SDtE7GFRJ-u",
        "outputId": "48900b2e-1cc0-48bd-b954-b8fcbcad1fe6"
      },
      "source": [
        "# 여러 가지 자료형\n",
        "# int - 정수를 보관\n",
        "# str - 문자를 보관\n",
        "# float - 실수를 보관\n",
        "# type()을 통해서 이 변수가 어떤 자료형인지를 알 수 있었다.\n",
        "\n",
        "# 여러 개의 변수를 보관하고 싶을 때\n",
        "# 1. 리스트 [ ]\n",
        "a = []\n",
        "b = [90,'국어',80,'수학']\n",
        "c = [50,['남윤원','이찬호'], 40, 50]   # 리스트 안에 다른 리스트가 들어갈 수도 있다.\n",
        "\n",
        "# 리스트에 어떤 값을 추가할 때\n",
        "c.append('추가할 값')\n",
        "\n",
        "# 2. 딕셔너리 {key : value, ...}\n",
        "d = {'국어' : 80, '수학' : 70}\n",
        "print(d)\n",
        "\n",
        "# 딕셔너리에 key, value 쌍을 추가하거나 수정할 때\n",
        "# 딕셔너리이름 ['key값'] = value값\n",
        "d['국어'] = 90\n",
        "d['과학'] = 100\n",
        "\n",
        "# key값은 중복이 안된다!\n",
        "dics = {'국어':70, '국어':80, '수학':90, '수학':100, '플밍':50}\n",
        "print('결과는',dics)  # 결과는?\n",
        "# 결과는 {'국어': 80, '수학': 100, '플밍': 50}\n",
        "\n",
        "dics2 = {'남윤원' : [3,4,5], '이찬호': [4,5,6]}\n",
        "# dics2['남윤원'] = 4\n",
        "dics2['김상수'] = [3,4,5]  # 추가, value의 값이 중복이 되는가? -> yes\n",
        "print('결과는?',dics2)\n",
        "# 결과는? {'남윤원': 4, '이찬호': [4, 5, 6]}\n",
        "\n",
        "print(d)\n",
        "# print(d['플밍']) # KeyError 오류!"
      ],
      "execution_count": 9,
      "outputs": [
        {
          "output_type": "stream",
          "text": [
            "{'국어': 80, '수학': 70}\n",
            "결과는 {'국어': 80, '수학': 100, '플밍': 50}\n",
            "결과는? {'남윤원': [3, 4, 5], '이찬호': [4, 5, 6], '김상수': [3, 4, 5]}\n",
            "{'국어': 90, '수학': 70, '과학': 100}\n"
          ],
          "name": "stdout"
        }
      ]
    },
    {
      "cell_type": "code",
      "metadata": {
        "colab": {
          "base_uri": "https://localhost:8080/"
        },
        "id": "QBfokssoVmBS",
        "outputId": "5b3f7bf1-94df-4797-9990-f24f741b292e"
      },
      "source": [
        "lists = ['국어', '수학', '플밍', '물리']\n",
        "print(d)\n",
        "\n",
        "# 딕셔너리에서 어떠한 key값이 존재하는가?\n",
        "# -> (key값 in 딕셔너리이름) : True 또는 False 값 반환\n",
        "\n",
        "for i in lists:   # 리스트 안에 있는 과목명이\n",
        "  if (i in d):    # d 딕셔너리 안에 key값으로 존재하는가?\n",
        "    print(i,'key값은 d 딕셔너리에 존재합니다.')\n",
        "  else:\n",
        "    print(i,'key값은 d 딕셔너리에 존재하지 않습니다.')\n",
        "\n",
        "if ('과학' in d) == True:   # 해당하는 문장에는 괄호 꼭 사용하기!!!\n",
        "  print('과학은 d 딕셔너리에 key값으로 존재합니다.')\n",
        "else:\n",
        "  print('과학은 d 딕셔너리에 key값으로 존재하지 않습니다.')\n",
        "\n",
        "# 딕셔너리에서 어떠한 value값이 존재하는가? / value값이 존재하지 않는다면?\n",
        "hundred = 0\n",
        "for i in d:\n",
        "  print(i,end=' ')    # 딕셔너리 안에 있는 key값 출력\n",
        "  print(d[i])         # 딕셔너리 안에 있는 value값 출력 (딕셔너리이름[key값]을 출력하면 value값이 나온다.)\n",
        "  if d[i] == 100:\n",
        "    hundred = 1\n",
        "\n",
        "if hundred == 0:\n",
        "  print('100점이 없어요!')\n",
        "else:\n",
        "  print('100점이 있어요!')\n"
      ],
      "execution_count": 18,
      "outputs": [
        {
          "output_type": "stream",
          "text": [
            "{'국어': 90, '수학': 70, '과학': 100}\n",
            "국어 key값은 d 딕셔너리에 존재합니다.\n",
            "수학 key값은 d 딕셔너리에 존재합니다.\n",
            "플밍 key값은 d 딕셔너리에 존재하지 않습니다.\n",
            "물리 key값은 d 딕셔너리에 존재하지 않습니다.\n",
            "과학은 d 딕셔너리에 key값으로 존재합니다.\n",
            "국어 90\n",
            "수학 70\n",
            "과학 100\n",
            "100점이 있어요!\n"
          ],
          "name": "stdout"
        }
      ]
    },
    {
      "cell_type": "code",
      "metadata": {
        "colab": {
          "base_uri": "https://localhost:8080/"
        },
        "id": "ctsSfz_cY6oG",
        "outputId": "4efc8fee-9c3b-4c28-97fe-c3dd7c4dcefd"
      },
      "source": [
        "# 튜플\n",
        "tup = ()\n",
        "tup = (3,4,5,6,7,8,4,3,2,1,3)\n",
        "\n",
        "print(tup)\n",
        "for i in tup:\n",
        "  print(i)\n",
        "\n",
        "# 튜플의 가장 큰 성질 중의 하나는? 수정이 불가능하다는 것!\n",
        "# tup[0] = 5 는 오류가 발생한다. / 튜플에는 수를 할당 불가능하다!\n",
        "print(tup[0])\n",
        "\n",
        "# 함수를 짤 때 여러 개의 리턴 값을 반환하는 함수를 짠다면\n",
        "# 튜플의 형태로 반환된다!!\n",
        "\n",
        "def func():\n",
        "  return 3,4,'남윤원'\n",
        "\n",
        "print(func())   \n",
        "# 왜 튜플의 형태로 리턴하게 했을까?  \n",
        "# -> 리스트와 달리 튜플은 각 원소를 수정할 수 없기 때문에 함수의 리턴값 자체를 임의로 수정하지 못하게 해 놓은 것이다.\n",
        "\n",
        "a,b,c = func()\n",
        "print(a,b,c)"
      ],
      "execution_count": 23,
      "outputs": [
        {
          "output_type": "stream",
          "text": [
            "(3, 4, 5, 6, 7, 8, 4, 3, 2, 1, 3)\n",
            "3\n",
            "4\n",
            "5\n",
            "6\n",
            "7\n",
            "8\n",
            "4\n",
            "3\n",
            "2\n",
            "1\n",
            "3\n",
            "3\n",
            "(3, 4, '남윤원')\n",
            "3 4 남윤원\n"
          ],
          "name": "stdout"
        }
      ]
    },
    {
      "cell_type": "code",
      "metadata": {
        "colab": {
          "base_uri": "https://localhost:8080/"
        },
        "id": "D3XdZ9ysY6Tr",
        "outputId": "336a1e1f-d2f2-4229-e210-7894f5416bc4"
      },
      "source": [
        "# 집합의 가장 큰 성질 : 중복되는 원소가 없어진다!\n",
        "uni = {}\n",
        "uni = {3,4,5,6,7,7,4,3,2,1,3,5}\n",
        "\n",
        "# 정렬도 해 주고 중복된는 원소도 없애 준다?\n",
        "print(uni)\n",
        "\n",
        "uni2 = {'b','a','c','d','d','c','p'}\n",
        "print(uni2)"
      ],
      "execution_count": 24,
      "outputs": [
        {
          "output_type": "stream",
          "text": [
            "{1, 2, 3, 4, 5, 6, 7}\n",
            "{'c', 'a', 'b', 'd', 'p'}\n"
          ],
          "name": "stdout"
        }
      ]
    },
    {
      "cell_type": "markdown",
      "metadata": {
        "id": "Nt2qi7maUYca"
      },
      "source": [
        "### 모듈에 대해 이해하고 대표적인 모듈을 사용해보자\n",
        "- datetime모듈, time모듈, math모듈, random모듈, turtle모듈"
      ]
    },
    {
      "cell_type": "markdown",
      "metadata": {
        "id": "LBQSdK5qc6oR"
      },
      "source": [
        "### 연습문제 중 어려운 문제 피드백 (어떤 방식으로 접근 할 수 있을까?)"
      ]
    },
    {
      "cell_type": "code",
      "metadata": {
        "id": "uzaz-Qm_Tsuk"
      },
      "source": [
        "# 연습문제 6.12, 6.13, 6.14 응용\n",
        "# 버블 정렬\n",
        "# 1. 첫번째 원소와 두번째 원소를 비교\n",
        "# 2. 두번째 원소 (오른쪽에 있는 원소)가 더 크면, 두 원소를 서로 바꿉니다. (교환, swap)\n",
        "# 3. 맨 오른쪽에 있는 원소를 만날때까지 수행\n",
        "# 4. 1,2,3을 다 마치면, 맨 오른쪽에 있는 원소는 가장 큰 원소가 된다.\n",
        "# 5. 1,2,3,4를 다시 수행하는데, 맨 오른쪽에 있는 원소(가장 큰 원소)는 "
      ],
      "execution_count": 25,
      "outputs": []
    },
    {
      "cell_type": "code",
      "metadata": {
        "colab": {
          "base_uri": "https://localhost:8080/"
        },
        "id": "phmLw7ZTdqhe",
        "outputId": "abb08ad8-e060-456d-e2ff-0bdc68f3f243"
      },
      "source": [
        "# 6.12\n",
        "\n",
        "# 어떤 리스트에서 i번째 위치의 원소와 j번째 위치의 원소를 바꾸는 함수\n",
        "# 1. 임시 변수를 사용할 경우\n",
        "def swap(i,j):\n",
        "  a = list_1[i]\n",
        "  list_1[i] = list_1[j]\n",
        "  list_1[j] = a\n",
        "\n",
        "# 2. 임시 변수를 사용하지 않는 경우\n",
        "lists = [4,23,49,12,30,48,32,12,4]\n",
        "print('주어진 리스트는 :',lists)\n",
        "\n",
        "# 가장 큰 값이 어느 위치에 있는지를 알면 문제가 없다!\n",
        "\n",
        "# (1) 가장 큰 값이 어떤 값인지 : max(리스트)\n",
        "max_value = max(lists)\n",
        "\n",
        "# (2) 그 값이 어느 위치에 있는지\n",
        "# 리스트.index(찾고자 하는 값, 검색 시작점, 검색 끝점)\n",
        "max_index = lists.index(max_value)\n",
        "print(max_value,max_index)\n",
        "\n",
        "# (3) 그 위치에 있는 값과 맨 오른쪽에 있는 값을 바꾸는 코드\n",
        "# 가장 큰 값이 위치하는 곳 : max_index\n",
        "# 리스트에서 맨 오른쪽에 있는 값 : lists[-1]\n",
        "lists[-1], lists[max_index] = (lists[max_index], lists[-1])\n",
        "\n",
        "\n",
        "print('가장 큰 수를 마지막으로 옮긴 결과 :',lists)"
      ],
      "execution_count": 28,
      "outputs": [
        {
          "output_type": "stream",
          "text": [
            "주어진 리스트는 : [4, 23, 49, 12, 30, 48, 32, 12, 4]\n",
            "49 2\n",
            "가장 큰 수를 마지막으로 옮긴 결과 : [4, 23, 4, 12, 30, 48, 32, 12, 49]\n"
          ],
          "name": "stdout"
        }
      ]
    },
    {
      "cell_type": "code",
      "metadata": {
        "colab": {
          "base_uri": "https://localhost:8080/"
        },
        "id": "TBH4fex_gvT7",
        "outputId": "ad0d8500-9baa-4592-d685-0296dbd987cb"
      },
      "source": [
        "# 6.12 다른 풀이\n",
        "lists = [4,23,49,12,30,48,32,12,4]\n",
        "print('주어진 리스트는 :',lists)\n",
        "\n",
        "for i in range(len(lists)-1):\n",
        "  # 왼쪽에 있는 값이 더 크다면?\n",
        "  if lists[i] > lists[i+1]:\n",
        "    # 두값을 바꾼다.(swap한다.)\n",
        "    lists[i+1], lists[i] = (lists[i], lists[i+1])\n",
        "\n",
        "print(lists)\n"
      ],
      "execution_count": 29,
      "outputs": [
        {
          "output_type": "stream",
          "text": [
            "주어진 리스트는 : [4, 23, 49, 12, 30, 48, 32, 12, 4]\n",
            "[4, 23, 12, 30, 48, 32, 12, 4, 49]\n"
          ],
          "name": "stdout"
        }
      ]
    },
    {
      "cell_type": "code",
      "metadata": {
        "id": "Qzwh5juWhxY_"
      },
      "source": [
        "# 6.13 풀이"
      ],
      "execution_count": null,
      "outputs": []
    },
    {
      "cell_type": "code",
      "metadata": {
        "colab": {
          "base_uri": "https://localhost:8080/"
        },
        "id": "PwxOHdeMh2Tt",
        "outputId": "f08c9520-0860-47e4-f91d-60ba77fa253e"
      },
      "source": [
        "lists = [4,23,49,12,30,48,32,12,4]\n",
        "print('주어진 리스트는 :',lists)\n",
        "\n",
        "# 이중 for문 사용\n",
        "for k in range(len(lists),1,-1):\n",
        "  for i in range(k-1):\n",
        "    # 왼쪽에 있는 값이 더 크다면?\n",
        "    if lists[i] > lists[i+1]:\n",
        "      # 두값을 바꾼다.(swap한다.)\n",
        "      lists[i+1], lists[i] = (lists[i], lists[i+1])\n",
        "  \n",
        "print('정렬된 결과는 =',lists)"
      ],
      "execution_count": 36,
      "outputs": [
        {
          "output_type": "stream",
          "text": [
            "주어진 리스트는 : [4, 23, 49, 12, 30, 48, 32, 12, 4]\n",
            "정렬된 결과는 = [4, 4, 12, 12, 23, 30, 32, 48, 49]\n"
          ],
          "name": "stdout"
        }
      ]
    },
    {
      "cell_type": "code",
      "metadata": {
        "id": "yLUJofj0jL6J"
      },
      "source": [
        "# 6.14 풀이"
      ],
      "execution_count": null,
      "outputs": []
    },
    {
      "cell_type": "code",
      "metadata": {
        "colab": {
          "base_uri": "https://localhost:8080/"
        },
        "id": "7r3Wju-HjOcV",
        "outputId": "9286bb4f-1b4a-4193-b766-4033d00bc0a0"
      },
      "source": [
        "lists = [4,23,49,12,30,48,32,12,4]\n",
        "print('주어진 리스트는 :',lists)\n",
        "\n",
        "# 이중 for문 사용\n",
        "for k in range(len(lists),1,-1):\n",
        "  for i in range(k-1):\n",
        "    # 왼쪽에 있는 값이 더 크다면?\n",
        "    if lists[i] > lists[i+1]:\n",
        "      # 두값을 바꾼다.(swap한다.)\n",
        "      lists[i+1], lists[i] = (lists[i], lists[i+1])\n",
        "\n",
        "  # 정렬이 된 부분 :  맨 마지막 부분\n",
        "  # 정렬이 안된 부분 : 0 ~ 맨 마지막 부분을 제외한 부분\n",
        "  print(len(lists)-1-i,'단계 :',lists[0:k-1],end = ', ')\n",
        "  print(lists[k-1:])\n",
        "\n",
        "print('정렬된 결과는 =',lists)"
      ],
      "execution_count": 41,
      "outputs": [
        {
          "output_type": "stream",
          "text": [
            "주어진 리스트는 : [4, 23, 49, 12, 30, 48, 32, 12, 4]\n",
            "1 단계 : [4, 23, 12, 30, 48, 32, 12, 4], [49]\n",
            "2 단계 : [4, 12, 23, 30, 32, 12, 4], [48, 49]\n",
            "3 단계 : [4, 12, 23, 30, 12, 4], [32, 48, 49]\n",
            "4 단계 : [4, 12, 23, 12, 4], [30, 32, 48, 49]\n",
            "5 단계 : [4, 12, 12, 4], [23, 30, 32, 48, 49]\n",
            "6 단계 : [4, 12, 4], [12, 23, 30, 32, 48, 49]\n",
            "7 단계 : [4, 4], [12, 12, 23, 30, 32, 48, 49]\n",
            "8 단계 : [4], [4, 12, 12, 23, 30, 32, 48, 49]\n",
            "정렬된 결과는 = [4, 4, 12, 12, 23, 30, 32, 48, 49]\n"
          ],
          "name": "stdout"
        }
      ]
    },
    {
      "cell_type": "code",
      "metadata": {
        "id": "G7bBr9Eyevq2"
      },
      "source": [
        "# tup의 성질(리턴)을 이용한 swap\n",
        "a = 300\n",
        "b = 400\n",
        "print(a,b)\n",
        "a,b = (b,a)  # a,b = b,a  와 동일하다."
      ],
      "execution_count": null,
      "outputs": []
    },
    {
      "cell_type": "code",
      "metadata": {
        "colab": {
          "base_uri": "https://localhost:8080/"
        },
        "id": "06Y7XFZqkOu3",
        "outputId": "d9d99fe5-3dd3-4ca1-cbaf-c59f06fe4f57"
      },
      "source": [
        "# 연습문제 6.24 암호 문제\n",
        "# (1)\n",
        "import string\n",
        "src_str = string.ascii_uppercase\n",
        "print(src_str)\n",
        "dst_str = src_str[3:]+src_str[0:3]\n",
        "print(dst_str)\n",
        "\n",
        "# (2) 리스트이름.index('찾고자 하는 값','시작 지점','끝지점') -> 찾고자 하는 값이 어느 위치에 있는가?\n",
        "A_index = src_str.index('A')\n",
        "print('src_str의 A 인덱스 :', A_index)\n",
        "print('dst_str의 0번째 알파벳 :', dst_str[0])\n",
        "\n",
        "B_index = src_str.index('B')\n",
        "print('src_str의 B 인덱스 :', B_index)\n",
        "print('dst_str의 1번째 알파벳 :', dst_str[1])\n"
      ],
      "execution_count": 48,
      "outputs": [
        {
          "output_type": "stream",
          "text": [
            "ABCDEFGHIJKLMNOPQRSTUVWXYZ\n",
            "DEFGHIJKLMNOPQRSTUVWXYZABC\n",
            "src_str의 A 인덱스 : 0\n",
            "dst_str의 0번째 알파벳 : D\n",
            "src_str의 B 인덱스 : 1\n",
            "dst_str의 1번째 알파벳 : E\n"
          ],
          "name": "stdout"
        }
      ]
    },
    {
      "cell_type": "code",
      "metadata": {
        "colab": {
          "base_uri": "https://localhost:8080/"
        },
        "id": "WUfTrJvqkSKb",
        "outputId": "0299dfff-241e-4f9a-9254-e710ff7e567b"
      },
      "source": [
        "# (3)\n",
        "def ciper(a):\n",
        "  ans_str = ''\n",
        "  for i in range(len(a)):\n",
        "    if (a[i].isalpha()) == True:\n",
        "      a_index = src_str.index(a[i])\n",
        "      ans_str += dst_str[a_index]\n",
        "    else:\n",
        "      ans_str += a[i]\n",
        "  print('암호화된 문장:', ans_str)\n",
        "\n",
        "ciper('ATT')"
      ],
      "execution_count": 66,
      "outputs": [
        {
          "output_type": "stream",
          "text": [
            "암호화된 문장: DWW\n"
          ],
          "name": "stdout"
        }
      ]
    },
    {
      "cell_type": "code",
      "metadata": {
        "id": "8PqPVZqpooB5"
      },
      "source": [
        "# (4)"
      ],
      "execution_count": 55,
      "outputs": []
    },
    {
      "cell_type": "code",
      "metadata": {
        "colab": {
          "base_uri": "https://localhost:8080/"
        },
        "id": "AMNUuG5lmhCR",
        "outputId": "41489f85-88ee-4146-e771-b931c3c45d49"
      },
      "source": [
        "# src_str -> dst_str (암호화)\n",
        "src_str = string.ascii_uppercase\n",
        "print(src_str)\n",
        "\n",
        "dst_str = src_str[3:]+src_str[0:3]\n",
        "print(dst_str)\n",
        "\n",
        "# dst_str -> src_str (해독)\n",
        "unlock_str = dst_str[-3:] + dst_str[:-3]\n",
        "print(unlock_str)"
      ],
      "execution_count": 56,
      "outputs": [
        {
          "output_type": "stream",
          "text": [
            "ABCDEFGHIJKLMNOPQRSTUVWXYZ\n",
            "DEFGHIJKLMNOPQRSTUVWXYZABC\n",
            "ABCDEFGHIJKLMNOPQRSTUVWXYZ\n"
          ],
          "name": "stdout"
        }
      ]
    },
    {
      "cell_type": "code",
      "metadata": {
        "colab": {
          "base_uri": "https://localhost:8080/"
        },
        "id": "P_gj3vPOojJf",
        "outputId": "470918af-ec10-4927-e314-f023c5457a9d"
      },
      "source": [
        "input_str = 'DWWDFN WRQLJKW!'\n",
        "ans_str = ''\n",
        "for i in range(len(input_str)):\n",
        "  # 지금 내가 보고 있는 부분이 알파벳인가?\n",
        "  if (input_str[i].isalpha()) == True:\n",
        "    a_index = dst_str.index(input_str[i])\n",
        "    print('dst_str의',input_str[i],'인덱스 :', a_index)\n",
        "    print('src_str의',a_index,'번째 알파벳 :', src_str[a_index])\n",
        "    ans_str += src_str[a_index]\n",
        "  else:\n",
        "    ans_str += input_str[i]\n",
        "\n",
        "print('해독된 문장:', ans_str)\n"
      ],
      "execution_count": 64,
      "outputs": [
        {
          "output_type": "stream",
          "text": [
            "dst_str의 D 인덱스 : 0\n",
            "src_str의 0 번째 알파벳 : A\n",
            "dst_str의 W 인덱스 : 19\n",
            "src_str의 19 번째 알파벳 : T\n",
            "dst_str의 W 인덱스 : 19\n",
            "src_str의 19 번째 알파벳 : T\n",
            "dst_str의 D 인덱스 : 0\n",
            "src_str의 0 번째 알파벳 : A\n",
            "dst_str의 F 인덱스 : 2\n",
            "src_str의 2 번째 알파벳 : C\n",
            "dst_str의 N 인덱스 : 10\n",
            "src_str의 10 번째 알파벳 : K\n",
            "dst_str의 W 인덱스 : 19\n",
            "src_str의 19 번째 알파벳 : T\n",
            "dst_str의 R 인덱스 : 14\n",
            "src_str의 14 번째 알파벳 : O\n",
            "dst_str의 Q 인덱스 : 13\n",
            "src_str의 13 번째 알파벳 : N\n",
            "dst_str의 L 인덱스 : 8\n",
            "src_str의 8 번째 알파벳 : I\n",
            "dst_str의 J 인덱스 : 6\n",
            "src_str의 6 번째 알파벳 : G\n",
            "dst_str의 K 인덱스 : 7\n",
            "src_str의 7 번째 알파벳 : H\n",
            "dst_str의 W 인덱스 : 19\n",
            "src_str의 19 번째 알파벳 : T\n",
            "해독된 문장: ATTACK TONIGHT!\n"
          ],
          "name": "stdout"
        }
      ]
    },
    {
      "cell_type": "code",
      "metadata": {
        "colab": {
          "base_uri": "https://localhost:8080/",
          "height": 577
        },
        "id": "bsG0nGxrqMX3",
        "outputId": "58a68ec3-cea8-4415-e352-5368c445513e"
      },
      "source": [
        "# (5)\n",
        "\n",
        "import string\n",
        "src_str = string.ascii_uppercase + string.ascii_lowercase\n",
        "print(src_str)\n",
        "\n",
        "dst_str = src_str[3:]+src_str[0:3]\n",
        "print(dst_str)\n",
        "\n",
        "ciper('Attack tonight!')"
      ],
      "execution_count": 60,
      "outputs": [
        {
          "output_type": "stream",
          "text": [
            "ABCDEFGHIJKLMNOPQRSTUVWXYZabcdefghijklmnopqrstuvwxyz\n",
            "DEFGHIJKLMNOPQRSTUVWXYZabcdefghijklmnopqrstuvwxyzABC\n",
            "src_str의 A 인덱스 : 0\n",
            "dst_str의 0 번째 알파벳 : D\n",
            "src_str의 t 인덱스 : 45\n",
            "dst_str의 45 번째 알파벳 : w\n",
            "src_str의 t 인덱스 : 45\n",
            "dst_str의 45 번째 알파벳 : w\n",
            "src_str의 a 인덱스 : 26\n",
            "dst_str의 26 번째 알파벳 : d\n",
            "src_str의 c 인덱스 : 28\n",
            "dst_str의 28 번째 알파벳 : f\n",
            "src_str의 k 인덱스 : 36\n",
            "dst_str의 36 번째 알파벳 : n\n",
            "src_str의 t 인덱스 : 45\n",
            "dst_str의 45 번째 알파벳 : w\n",
            "src_str의 o 인덱스 : 40\n",
            "dst_str의 40 번째 알파벳 : r\n",
            "src_str의 n 인덱스 : 39\n",
            "dst_str의 39 번째 알파벳 : q\n",
            "src_str의 i 인덱스 : 34\n",
            "dst_str의 34 번째 알파벳 : l\n",
            "src_str의 g 인덱스 : 32\n",
            "dst_str의 32 번째 알파벳 : j\n",
            "src_str의 h 인덱스 : 33\n",
            "dst_str의 33 번째 알파벳 : k\n",
            "src_str의 t 인덱스 : 45\n",
            "dst_str의 45 번째 알파벳 : w\n",
            "암호화된 문장: Dwwdfn wrqljkw!\n"
          ],
          "name": "stdout"
        },
        {
          "output_type": "execute_result",
          "data": {
            "application/vnd.google.colaboratory.intrinsic+json": {
              "type": "string"
            },
            "text/plain": [
              "'Dwwdfn wrqljkw!'"
            ]
          },
          "metadata": {
            "tags": []
          },
          "execution_count": 60
        }
      ]
    },
    {
      "cell_type": "code",
      "metadata": {
        "id": "6PXSjQIIqWHk"
      },
      "source": [
        ""
      ],
      "execution_count": null,
      "outputs": []
    }
  ]
}