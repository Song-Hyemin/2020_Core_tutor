{
  "nbformat": 4,
  "nbformat_minor": 0,
  "metadata": {
    "colab": {
      "name": "Core 튜터링 2주차.ipynb",
      "provenance": []
    },
    "kernelspec": {
      "name": "python3",
      "display_name": "Python 3"
    }
  },
  "cells": [
    {
      "cell_type": "markdown",
      "metadata": {
        "id": "Pbnv8EtKBe81"
      },
      "source": [
        "오늘의 목표\n",
        "- 백준 15953번 상금 헌터 (카카오 코드 페스티벌 2018 1번 문제) 문제 풀기\n",
        "\n",
        "오늘 배울 사항\n",
        "- 파이썬으로 입출력하는 기본적인 방법에 대해 알 수 있다. (input함수 파헤치기)\n",
        "- 파이썬으로 조건문(if ~ else / if ~ elif ~ else)을 작성할 수 있다.\n",
        "- 파이썬으로 반복문(for / while)을 작성하고 \n",
        "  어느 상황에 for문을 쓰는지, 어느 상황에 while문을 쓰는 것이 좋은지 말할 수 있다. \n",
        "  (면접 \"기본\" 문제 - \"기본기의 중요성\"이죠. 그러나 뚜렷한 정답은 없습니다.\n",
        "   자기 생각/경험을 어떻게 잘 말하는지가 핵심!)\n",
        "- 파이썬으로 리스트를 작성해보고 왜 리스트를 써야 하는지 말할 수 있다.\n",
        "\n",
        "기본기 다지기\n",
        "- 백준 1000번 A + B       : int를 2개 받는 방법\n",
        "- 백준 1330번 두 수 비교하기    : if ~ elif ~ else문 사용해 보기\n",
        "- 백준 8393번 합         : for문 사용해보기 / for문을 안쓰고 푸는 방법?\n",
        "- 백준 10952 A+B - 5      : while문 사용해보기\n",
        "- 백준 10871 X보다 작은 수       : 리스트 사용해보기\n",
        "\n",
        "실전 문제\n",
        "- 백준 14681 사분면 고르기 (Canadian Computing Competition > 2017 Junior Division 1번 문제)\n",
        "- 백준 8958 OX퀴즈 (ICPC > Asia Regional > Seoul 2005 > A번 문제)\n",
        "- 백준 2577 숫자의 개수 (한국정보올림피아드 > 지역본선 2006 > 초등부 2번 문제)\n",
        "- 백준 15953 상금 헌터 (카카오 코드 페스티벌 2018 > 1번 문제)"
      ]
    },
    {
      "cell_type": "markdown",
      "metadata": {
        "id": "fBTHE-CGBm6b"
      },
      "source": [
        "백준 8393번 : 합"
      ]
    },
    {
      "cell_type": "code",
      "metadata": {
        "id": "effb1OPDBqf1",
        "outputId": "60c9bcb4-981f-4de0-9d8d-a576798557c7",
        "colab": {
          "base_uri": "https://localhost:8080/",
          "height": 55
        }
      },
      "source": [
        "# n이 주어졌을 때, 1부터 n까지 합을 구하는 프로그램을 작성하시오.\n",
        "# for문 사용\n",
        "a = int(input())\n",
        "sum = 0\n",
        "for i in range (1,a+1):\n",
        "  sum += i\n",
        "print(sum)"
      ],
      "execution_count": 8,
      "outputs": [
        {
          "output_type": "stream",
          "text": [
            "3\n",
            "6\n"
          ],
          "name": "stdout"
        }
      ]
    },
    {
      "cell_type": "code",
      "metadata": {
        "id": "8rU2HvCiE70z",
        "outputId": "bc85327a-0bf3-41f8-9951-ce64f8a692a2",
        "colab": {
          "base_uri": "https://localhost:8080/",
          "height": 55
        }
      },
      "source": [
        "# n이 주어졌을 때, 1부터 n까지 합을 구하는 프로그램을 작성하시오.\n",
        "# 다른방법사용\n",
        "a = int(input())\n",
        "sum = a * (a+1)/2  # 수학에서 합 구하는 공식\n",
        "print(int(sum))    # 강제 형변환 : 컴츄터가 임의로 형을 바꿨을 때 사용자가 원하는 형으로 바꾸는 것"
      ],
      "execution_count": 10,
      "outputs": [
        {
          "output_type": "stream",
          "text": [
            "3\n",
            "6\n"
          ],
          "name": "stdout"
        }
      ]
    },
    {
      "cell_type": "markdown",
      "metadata": {
        "id": "42HALA7_GWiH"
      },
      "source": [
        "백준 1000번 A + B"
      ]
    },
    {
      "cell_type": "code",
      "metadata": {
        "id": "qgMcFaPRFcPz",
        "outputId": "789b409d-e058-46d9-f124-ba3c74afa805",
        "colab": {
          "base_uri": "https://localhost:8080/",
          "height": 55
        }
      },
      "source": [
        "# 두 정수 A와 B를 입력받은 다음, A+B를 출력하는 프로그램을 작성하시오.\n",
        "A,B = map(int,input().split(' '))\n",
        "print(A + B)"
      ],
      "execution_count": 11,
      "outputs": [
        {
          "output_type": "stream",
          "text": [
            "1 2\n",
            "3\n"
          ],
          "name": "stdout"
        }
      ]
    },
    {
      "cell_type": "code",
      "metadata": {
        "id": "lauLlCsqJb5Q"
      },
      "source": [
        "# 두 정수 A와 B를 입력받은 다음, A+B를 출력하는 프로그램을 작성하시오. (방법 2)"
      ],
      "execution_count": 12,
      "outputs": []
    },
    {
      "cell_type": "code",
      "metadata": {
        "id": "NCUjARKjOQRE",
        "outputId": "4ef3a950-6ef3-4208-c648-9bfe6de9bfd7",
        "colab": {
          "base_uri": "https://localhost:8080/",
          "height": 55
        }
      },
      "source": [
        "l = [int(x) for x in input().split()]\n",
        "sum = 0\n",
        "for x in l:\n",
        "  sum += x\n",
        "\n",
        "print(sum)"
      ],
      "execution_count": 14,
      "outputs": [
        {
          "output_type": "stream",
          "text": [
            "1 2\n",
            "3\n"
          ],
          "name": "stdout"
        }
      ]
    },
    {
      "cell_type": "code",
      "metadata": {
        "id": "VTELiaf_Olww",
        "outputId": "de3872cd-6403-407a-cae0-2fca9517d407",
        "colab": {
          "base_uri": "https://localhost:8080/",
          "height": 36
        }
      },
      "source": [
        "print(l)"
      ],
      "execution_count": 15,
      "outputs": [
        {
          "output_type": "stream",
          "text": [
            "[1, 2]\n"
          ],
          "name": "stdout"
        }
      ]
    },
    {
      "cell_type": "markdown",
      "metadata": {
        "id": "blkdhRRtPIBW"
      },
      "source": [
        "백준 1330번 두 수 비교하기"
      ]
    },
    {
      "cell_type": "code",
      "metadata": {
        "id": "OPQws7kaPKA6",
        "outputId": "02c6a642-0a7f-4605-a9bc-998f7e955fa9",
        "colab": {
          "base_uri": "https://localhost:8080/",
          "height": 55
        }
      },
      "source": [
        "# 두 정수 A와 B가 주어졌을 때, A와 B를 비교하는 프로그램을 작성하시오. (if-elif-else 문)\n",
        "a,b = map(int,input().split(' '))\n",
        "if a > b :\n",
        "  print('>')\n",
        "elif a < b :\n",
        "  print('<')\n",
        "else :\n",
        "  print('==')"
      ],
      "execution_count": 17,
      "outputs": [
        {
          "output_type": "stream",
          "text": [
            "1 2\n",
            "<\n"
          ],
          "name": "stdout"
        }
      ]
    },
    {
      "cell_type": "code",
      "metadata": {
        "id": "EPFlO0xzQQOP",
        "outputId": "d5ac37df-ca5a-4f06-c628-85714a5bbb0d",
        "colab": {
          "base_uri": "https://localhost:8080/",
          "height": 55
        }
      },
      "source": [
        "a,b = map(int,input().split(' '))\n",
        "if a > b :\n",
        "  print('>')\n",
        "elif a < b :\n",
        "  print('<')\n",
        "else :\n",
        "  print('==')"
      ],
      "execution_count": 18,
      "outputs": [
        {
          "output_type": "stream",
          "text": [
            "5 5\n",
            "==\n"
          ],
          "name": "stdout"
        }
      ]
    },
    {
      "cell_type": "code",
      "metadata": {
        "id": "0jRdCi9XQU4J",
        "outputId": "90cb926f-0a4c-496f-e77c-08439f678866",
        "colab": {
          "base_uri": "https://localhost:8080/",
          "height": 55
        }
      },
      "source": [
        "a,b = map(int,input().split(' '))\n",
        "if a > b :\n",
        "  print('>')\n",
        "elif a < b :\n",
        "  print('<')\n",
        "else :\n",
        "  print('==')"
      ],
      "execution_count": 19,
      "outputs": [
        {
          "output_type": "stream",
          "text": [
            "10 2\n",
            ">\n"
          ],
          "name": "stdout"
        }
      ]
    },
    {
      "cell_type": "markdown",
      "metadata": {
        "id": "ognEDNYPP0Lv"
      },
      "source": [
        "백준 15953번 상금헌터 (카카오 코드 페스티벌 2018 1번 문제)"
      ]
    },
    {
      "cell_type": "code",
      "metadata": {
        "id": "De0grDKCPZAm",
        "outputId": "b83aa87c-a96d-4c0b-e6fb-17ab3f790539",
        "colab": {
          "base_uri": "https://localhost:8080/",
          "height": 260
        }
      },
      "source": [
        "T = int(input())\n",
        "for i in range(0,T,1):\n",
        "  a,b = map(int,input().split(' '))\n",
        "  \n",
        "  sum = 0\n",
        "  if a == 0 :\n",
        "    sum += 0\n",
        "  elif a == 1:\n",
        "    sum += 500\n",
        "  elif a < 4 :\n",
        "    sum += 300\n",
        "  elif a < 7 :\n",
        "    sum += 200\n",
        "  elif a < 11 :\n",
        "    sum += 50\n",
        "  elif a < 16 :\n",
        "    sum += 30\n",
        "  elif a < 22 :\n",
        "    sum += 10\n",
        "  else :\n",
        "    sum += 0\n",
        "\n",
        "  if b == 0 :\n",
        "    sum += 0\n",
        "  elif b == 1:\n",
        "    sum += 512\n",
        "  elif b < 4 :\n",
        "    sum += 256\n",
        "  elif b < 8 :\n",
        "    sum += 128\n",
        "  elif b < 16 :\n",
        "    sum += 64\n",
        "  elif b < 32 :\n",
        "    sum += 32\n",
        "  else :\n",
        "    sum += 0\n",
        "\n",
        "  print(sum*10000)"
      ],
      "execution_count": 21,
      "outputs": [
        {
          "output_type": "stream",
          "text": [
            "6\n",
            "8 4\n",
            "1780000\n",
            "13 19\n",
            "620000\n",
            "8 10\n",
            "1140000\n",
            "18 18\n",
            "420000\n",
            "8 25\n",
            "820000\n",
            "13 16\n",
            "620000\n"
          ],
          "name": "stdout"
        }
      ]
    },
    {
      "cell_type": "markdown",
      "metadata": {
        "id": "yl0Ij_y5Wt6c"
      },
      "source": [
        "백준 10952번 A + B - 5"
      ]
    },
    {
      "cell_type": "code",
      "metadata": {
        "id": "dxRsomT8UiGT"
      },
      "source": [
        "# 두 정수 A와 B를 입력받은 다음, A+B를 출력하는 프로그램을 작성하시오."
      ],
      "execution_count": null,
      "outputs": []
    },
    {
      "cell_type": "code",
      "metadata": {
        "id": "ZRBEEGu_XGqY",
        "outputId": "5ff0c195-ec53-4b85-8ea0-0f026e7c1c38",
        "colab": {
          "base_uri": "https://localhost:8080/",
          "height": 223
        }
      },
      "source": [
        "while True:  # 무한 루프 (문장이 무조건 참인 조건이어서 while문이 끝나지 않음) \n",
        "  A,B = map(int,input().split())\n",
        "  if A != 0 and B != 0:\n",
        "    print(A + B)\n",
        "  else:\n",
        "    break \n"
      ],
      "execution_count": 28,
      "outputs": [
        {
          "output_type": "stream",
          "text": [
            "1 1\n",
            "2\n",
            "2 3\n",
            "5\n",
            "3 4\n",
            "7\n",
            "9 8\n",
            "17\n",
            "5 2\n",
            "7\n",
            "0 0\n"
          ],
          "name": "stdout"
        }
      ]
    },
    {
      "cell_type": "code",
      "metadata": {
        "id": "izUfBYuaZDzC"
      },
      "source": [
        ""
      ],
      "execution_count": null,
      "outputs": []
    }
  ]
}